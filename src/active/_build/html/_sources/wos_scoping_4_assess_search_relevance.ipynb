{
 "cells": [
  {
   "cell_type": "code",
   "execution_count": 2,
   "id": "65abb942",
   "metadata": {},
   "outputs": [
    {
     "name": "stderr",
     "output_type": "stream",
     "text": [
      "<>:57: SyntaxWarning: invalid escape sequence '\\d'\n",
      "C:\\Users\\messa\\AppData\\Local\\Temp\\ipykernel_16180\\894219484.py:57: SyntaxWarning: invalid escape sequence '\\d'\n",
      "  reflist_dict[i] = [re.sub(\"[^a-zA-Z\\d\\s]\", \"\", ref.title.replace('\\n', ' ').lower()),\n",
      "C:\\Users\\messa\\AppData\\Local\\Temp\\ipykernel_16180\\894219484.py:57: SyntaxWarning: invalid escape sequence '\\d'\n",
      "  reflist_dict[i] = [re.sub(\"[^a-zA-Z\\d\\s]\", \"\", ref.title.replace('\\n', ' ').lower()),\n"
     ]
    },
    {
     "ename": "ModuleNotFoundError",
     "evalue": "No module named 'litstudy'",
     "output_type": "error",
     "traceback": [
      "\u001b[1;31m---------------------------------------------------------------------------\u001b[0m",
      "\u001b[1;31mModuleNotFoundError\u001b[0m                       Traceback (most recent call last)",
      "File \u001b[1;32m~\\AppData\\Local\\Temp\\ipykernel_16180\\894219484.py:2\u001b[0m\n\u001b[0;32m      1\u001b[0m \u001b[38;5;28;01mimport\u001b[39;00m \u001b[38;5;21;01mcollections\u001b[39;00m\n\u001b[1;32m----> 2\u001b[0m \u001b[38;5;28;01mimport\u001b[39;00m \u001b[38;5;21;01mlitstudy\u001b[39;00m \u001b[38;5;66;03m#Use pip install git+https://github.com/NLeSC/litstudy to download dev version. Other encoding problem when loading ris files (load_ris_file needs to use robust_open instead of open)\u001b[39;00m\n\u001b[0;32m      3\u001b[0m \u001b[38;5;28;01mimport\u001b[39;00m \u001b[38;5;21;01mos\u001b[39;00m\n\u001b[0;32m      4\u001b[0m \u001b[38;5;28;01mimport\u001b[39;00m \u001b[38;5;21;01mnumpy\u001b[39;00m \u001b[38;5;28;01mas\u001b[39;00m \u001b[38;5;21;01mnp\u001b[39;00m\n",
      "\u001b[1;31mModuleNotFoundError\u001b[0m: No module named 'litstudy'"
     ]
    },
    {
     "ename": "ModuleNotFoundError",
     "evalue": "No module named 'litstudy'",
     "output_type": "error",
     "traceback": [
      "\u001b[1;31m---------------------------------------------------------------------------\u001b[0m",
      "\u001b[1;31mModuleNotFoundError\u001b[0m                       Traceback (most recent call last)",
      "Cell \u001b[1;32mIn[2], line 1\u001b[0m\n\u001b[1;32m----> 1\u001b[0m get_ipython()\u001b[38;5;241m.\u001b[39mrun_line_magic(\u001b[38;5;124m'\u001b[39m\u001b[38;5;124mrun\u001b[39m\u001b[38;5;124m'\u001b[39m, \u001b[38;5;124m'\u001b[39m\u001b[38;5;124mlit_utility_functions.ipynb\u001b[39m\u001b[38;5;124m'\u001b[39m)\n\u001b[0;32m      3\u001b[0m \u001b[38;5;66;03m#Info: tags from WoS https://images.webofknowledge.com/images/help/WOS/hs_wos_fieldtags.html\u001b[39;00m\n\u001b[0;32m      4\u001b[0m \n\u001b[0;32m      5\u001b[0m \u001b[38;5;66;03m#Set up project directory structure\u001b[39;00m\n\u001b[0;32m      6\u001b[0m rootdir \u001b[38;5;241m=\u001b[39m os\u001b[38;5;241m.\u001b[39mpath\u001b[38;5;241m.\u001b[39mdirname(os\u001b[38;5;241m.\u001b[39mpath\u001b[38;5;241m.\u001b[39mdirname(os\u001b[38;5;241m.\u001b[39mgetcwd()))\n",
      "File \u001b[1;32m~\\anaconda3\\Lib\\site-packages\\IPython\\core\\interactiveshell.py:2480\u001b[0m, in \u001b[0;36mInteractiveShell.run_line_magic\u001b[1;34m(self, magic_name, line, _stack_depth)\u001b[0m\n\u001b[0;32m   2478\u001b[0m     kwargs[\u001b[38;5;124m'\u001b[39m\u001b[38;5;124mlocal_ns\u001b[39m\u001b[38;5;124m'\u001b[39m] \u001b[38;5;241m=\u001b[39m \u001b[38;5;28mself\u001b[39m\u001b[38;5;241m.\u001b[39mget_local_scope(stack_depth)\n\u001b[0;32m   2479\u001b[0m \u001b[38;5;28;01mwith\u001b[39;00m \u001b[38;5;28mself\u001b[39m\u001b[38;5;241m.\u001b[39mbuiltin_trap:\n\u001b[1;32m-> 2480\u001b[0m     result \u001b[38;5;241m=\u001b[39m fn(\u001b[38;5;241m*\u001b[39margs, \u001b[38;5;241m*\u001b[39m\u001b[38;5;241m*\u001b[39mkwargs)\n\u001b[0;32m   2482\u001b[0m \u001b[38;5;66;03m# The code below prevents the output from being displayed\u001b[39;00m\n\u001b[0;32m   2483\u001b[0m \u001b[38;5;66;03m# when using magics with decorator @output_can_be_silenced\u001b[39;00m\n\u001b[0;32m   2484\u001b[0m \u001b[38;5;66;03m# when the last Python token in the expression is a ';'.\u001b[39;00m\n\u001b[0;32m   2485\u001b[0m \u001b[38;5;28;01mif\u001b[39;00m \u001b[38;5;28mgetattr\u001b[39m(fn, magic\u001b[38;5;241m.\u001b[39mMAGIC_OUTPUT_CAN_BE_SILENCED, \u001b[38;5;28;01mFalse\u001b[39;00m):\n",
      "File \u001b[1;32m~\\anaconda3\\Lib\\site-packages\\IPython\\core\\magics\\execution.py:737\u001b[0m, in \u001b[0;36mExecutionMagics.run\u001b[1;34m(self, parameter_s, runner, file_finder)\u001b[0m\n\u001b[0;32m    735\u001b[0m     \u001b[38;5;28;01mwith\u001b[39;00m preserve_keys(\u001b[38;5;28mself\u001b[39m\u001b[38;5;241m.\u001b[39mshell\u001b[38;5;241m.\u001b[39muser_ns, \u001b[38;5;124m'\u001b[39m\u001b[38;5;124m__file__\u001b[39m\u001b[38;5;124m'\u001b[39m):\n\u001b[0;32m    736\u001b[0m         \u001b[38;5;28mself\u001b[39m\u001b[38;5;241m.\u001b[39mshell\u001b[38;5;241m.\u001b[39muser_ns[\u001b[38;5;124m'\u001b[39m\u001b[38;5;124m__file__\u001b[39m\u001b[38;5;124m'\u001b[39m] \u001b[38;5;241m=\u001b[39m filename\n\u001b[1;32m--> 737\u001b[0m         \u001b[38;5;28mself\u001b[39m\u001b[38;5;241m.\u001b[39mshell\u001b[38;5;241m.\u001b[39msafe_execfile_ipy(filename, raise_exceptions\u001b[38;5;241m=\u001b[39m\u001b[38;5;28;01mTrue\u001b[39;00m)\n\u001b[0;32m    738\u001b[0m     \u001b[38;5;28;01mreturn\u001b[39;00m\n\u001b[0;32m    740\u001b[0m \u001b[38;5;66;03m# Control the response to exit() calls made by the script being run\u001b[39;00m\n",
      "File \u001b[1;32m~\\anaconda3\\Lib\\site-packages\\IPython\\core\\interactiveshell.py:3005\u001b[0m, in \u001b[0;36mInteractiveShell.safe_execfile_ipy\u001b[1;34m(self, fname, shell_futures, raise_exceptions)\u001b[0m\n\u001b[0;32m   3003\u001b[0m result \u001b[38;5;241m=\u001b[39m \u001b[38;5;28mself\u001b[39m\u001b[38;5;241m.\u001b[39mrun_cell(cell, silent\u001b[38;5;241m=\u001b[39m\u001b[38;5;28;01mTrue\u001b[39;00m, shell_futures\u001b[38;5;241m=\u001b[39mshell_futures)\n\u001b[0;32m   3004\u001b[0m \u001b[38;5;28;01mif\u001b[39;00m raise_exceptions:\n\u001b[1;32m-> 3005\u001b[0m     result\u001b[38;5;241m.\u001b[39mraise_error()\n\u001b[0;32m   3006\u001b[0m \u001b[38;5;28;01melif\u001b[39;00m \u001b[38;5;129;01mnot\u001b[39;00m result\u001b[38;5;241m.\u001b[39msuccess:\n\u001b[0;32m   3007\u001b[0m     \u001b[38;5;28;01mbreak\u001b[39;00m\n",
      "File \u001b[1;32m~\\anaconda3\\Lib\\site-packages\\IPython\\core\\interactiveshell.py:308\u001b[0m, in \u001b[0;36mExecutionResult.raise_error\u001b[1;34m(self)\u001b[0m\n\u001b[0;32m    306\u001b[0m     \u001b[38;5;28;01mraise\u001b[39;00m \u001b[38;5;28mself\u001b[39m\u001b[38;5;241m.\u001b[39merror_before_exec\n\u001b[0;32m    307\u001b[0m \u001b[38;5;28;01mif\u001b[39;00m \u001b[38;5;28mself\u001b[39m\u001b[38;5;241m.\u001b[39merror_in_exec \u001b[38;5;129;01mis\u001b[39;00m \u001b[38;5;129;01mnot\u001b[39;00m \u001b[38;5;28;01mNone\u001b[39;00m:\n\u001b[1;32m--> 308\u001b[0m     \u001b[38;5;28;01mraise\u001b[39;00m \u001b[38;5;28mself\u001b[39m\u001b[38;5;241m.\u001b[39merror_in_exec\n",
      "    \u001b[1;31m[... skipping hidden 1 frame]\u001b[0m\n",
      "File \u001b[1;32m~\\AppData\\Local\\Temp\\ipykernel_16180\\894219484.py:2\u001b[0m\n\u001b[0;32m      1\u001b[0m \u001b[38;5;28;01mimport\u001b[39;00m \u001b[38;5;21;01mcollections\u001b[39;00m\n\u001b[1;32m----> 2\u001b[0m \u001b[38;5;28;01mimport\u001b[39;00m \u001b[38;5;21;01mlitstudy\u001b[39;00m \u001b[38;5;66;03m#Use pip install git+https://github.com/NLeSC/litstudy to download dev version. Other encoding problem when loading ris files (load_ris_file needs to use robust_open instead of open)\u001b[39;00m\n\u001b[0;32m      3\u001b[0m \u001b[38;5;28;01mimport\u001b[39;00m \u001b[38;5;21;01mos\u001b[39;00m\n\u001b[0;32m      4\u001b[0m \u001b[38;5;28;01mimport\u001b[39;00m \u001b[38;5;21;01mnumpy\u001b[39;00m \u001b[38;5;28;01mas\u001b[39;00m \u001b[38;5;21;01mnp\u001b[39;00m\n",
      "\u001b[1;31mModuleNotFoundError\u001b[0m: No module named 'litstudy'"
     ]
    }
   ],
   "source": [
    "%run lit_utility_functions.ipynb\n",
    "%un set_up.py\n",
    "\n",
    "#Info: tags from WoS https://images.webofknowledge.com/images/help/WOS/hs_wos_fieldtags.html\n",
    "\n",
    "#Subdirectory where tab-delimited files of wos outputs were saved\n",
    "scoping_4_datdir = Path(scopdir, 'scoping_4_wos')\n",
    "\n",
    "#Pickle were loaded data will be saved\n",
    "scoping_4_docset_pickle = Path(scoping_4_datdir, 'scoping_4_docset.pickle') \n",
    "\n",
    "#csv table where references' title, journal, year and DOI are written\n",
    "reflist_csv = Path(scoping_4_datdir, 'scoping_4_shortmetadata.csv')\n",
    "\n",
    "#csv table with 200 sampled articles\n",
    "reflist_csv_sample = Path(scoping_4_datdir, 'scoping_4_shortmetadata_sample.csv')"
   ]
  },
  {
   "cell_type": "code",
   "execution_count": 2,
   "id": "b66c6b1b",
   "metadata": {},
   "outputs": [],
   "source": [
    "#~~~~~~~~~~~~~ Read and compile references from the WoS search ~~~~~~~~~~~~~~~~~~\n",
    "#into a single document set (lit_study format)\n",
    "reflist = rpickle_bibdocset(in_dirpath=scoping_4_datdir, \n",
    "                  in_pattern=\".*savedrecs(\\([0-9]{1,2}\\))*[.]bib\", \n",
    "                  out_pickle=scoping_4_docset_pickle)"
   ]
  },
  {
   "cell_type": "code",
   "execution_count": 3,
   "id": "06f9764f",
   "metadata": {},
   "outputs": [],
   "source": [
    "#~~~~~~~~~~~~~ Get titles and DOIs from test list ~~~~~~~~~~~~~~~\n",
    "testlist_title_dois = get_testlist(library_id='4842799', api_key_path=Path(srcdir, 'zotero_key.txt'))"
   ]
  },
  {
   "cell_type": "code",
   "execution_count": 8,
   "id": "3817ca57",
   "metadata": {},
   "outputs": [
    {
     "name": "stdout",
     "output_type": "stream",
     "text": [
      "78279\n"
     ]
    }
   ],
   "source": [
    "#~~~~~~~~~~~~~~ Write basic metadata from reference list to csv ~~~~~~~~~~~~~~~~~~\n",
    "#Get all dois and titles in references returned from search\n",
    "reflist_pd = tabulate_searchlist(in_reflist=reflist, out_csvpath=reflist_csv) \n",
    "\n",
    "print(len(set(reflist_pd.title)))\n",
    "\n",
    "if not reflist_csv_sample.exists():\n",
    "    reflist_pd_sample = reflist_pd.sample(100)\n",
    "    reflist_pd_sample.to_csv(reflist_csv_sample)\n",
    "else: \n",
    "    reflist_pd_sample = pd.read_csv(reflist_csv_sample)"
   ]
  },
  {
   "cell_type": "code",
   "execution_count": 5,
   "id": "540057da",
   "metadata": {},
   "outputs": [],
   "source": [
    "#~~~~~~~~~~~~~~ Check which items in test list were retrieved through the search ~~~~~~~\n",
    "returned = {}\n",
    "not_returned = {}\n",
    "\n",
    "for k, v in testlist_title_dois.items():\n",
    "    if (re.sub(\"[^a-zA-Z\\d\\s]\", \"\", v[0].lower()) in set(reflist_pd.title)) or (v[1] in set(reflist_pd.doi)):\n",
    "        returned[k] = v[0]\n",
    "    else:\n",
    "        not_returned[k] = v[0]"
   ]
  },
  {
   "cell_type": "code",
   "execution_count": null,
   "id": "e072a3af-f5cd-4678-aac7-f1f625f580e0",
   "metadata": {},
   "outputs": [],
   "source": [
    "#Compute the number of included and excluded references depending on all catgeories for each document\n",
    "#Format as a table to be examined\n",
    "wos_initlist_catsample_format = pd.read_csv(catsamplecsv_path)\n",
    "\n",
    "wos_catsample_stats = pd.melt(frame=wos_initlist_catsample_format,\n",
    "        id_vars=['Unnamed: 0', 'Inclusion'],\n",
    "        value_vars = wos_cat_split.columns,\n",
    "        #var_name='wos_catnum',\n",
    "        value_name = 'wos_catnum'\n",
    "        )\n",
    "\n",
    "wos_catsample_stats['wos_catnum'] = wos_catsample_stats['wos_catnum'].replace(r\"^ +| +$\", r\"\", regex=True)\n",
    "\n",
    "wos_catsample_stats = wos_catsample_stats.groupby(['wos_catnum', 'Inclusion']).size().to_frame('N').reset_index().\\\n",
    "    pivot(index='wos_catnum', columns='Inclusion')\n",
    "\n",
    "wos_catsample_stats.columns = wos_catsample_stats.columns.droplevel()\n",
    "wos_catsample_stats.reset_index(inplace=True)\n",
    "wos_catsample_stats = wos_catsample_stats.rename(columns={0:\"excluded\", 1:\"included\"}).\\\n",
    "    fillna(0)\n",
    "wos_catsample_stats['N'] = wos_catsample_stats['excluded'] + wos_catsample_stats['included']\n",
    "wos_catsample_stats.sort_values(['included','N'], ascending=[False, False]).\\\n",
    "to_csv(Path(scopdir, 'wos_search1_catsample_stats.csv'))"
   ]
  },
  {
   "cell_type": "code",
   "execution_count": 6,
   "id": "fbb41a16",
   "metadata": {},
   "outputs": [
    {
     "name": "stdout",
     "output_type": "stream",
     "text": [
      "19\n"
     ]
    },
    {
     "data": {
      "text/plain": [
       "{'9WNWDU83': 'Generalized models of riverine fish hydraulic habitat',\n",
       " 'FM669F58': 'Estimating Minimum Instream Flow Requirements for Minnesota Streams from Hydrologic Data and Watershed Characteristics',\n",
       " 'QSA6R86M': 'The Applicability of Instream Flow Incremental Methodology for Impact Assessment in Newfoundland',\n",
       " '8LLPFL3Q': 'Some Environmental Aspects of the Management of Water Supplies for the Region of Madrid',\n",
       " 'BD4MS6ET': 'Application of the Instream Flow Incremental Methodology to conservation flow for freshwater fishes in Japan',\n",
       " '5ABFNPLW': 'Effects of experimental ramping rate of invertebrate community of a regulated river',\n",
       " 'FBNIZFMX': 'Flow-recruitment relationships for Shoal Chub (Macrhybopsis hyostoma) and implications for managing environmental flows',\n",
       " 'XXWDW65Y': 'The basic flow: an alternative approach to calculate minimum environmental instream flows',\n",
       " 'KF78K6WX': 'Comparison of discharge methods and habitat optimization for recommending instream flows to protect fish habitat',\n",
       " 'J7CLJCLB': 'Relative Bias of Several Fisheries Instream Flow Methods',\n",
       " 'RXDXNHDD': 'Enhancement of benthic macroinvertebrates by minimum flow from a hydroelectric dam',\n",
       " 'BC3K6KT3': 'Enhancement of Fish Feeding and Growth after an Increase in Minimum Flow below the Conowingo Dam',\n",
       " 'Q3VVEKRA': 'Hydrologic Manipulations of the Channelized Kissimmee River: Implications for restoration',\n",
       " 'GK9XDHS5': 'Effects of instream enhancement structures on brown trout, Salmo trutta L., habitat availability in a channelized boreal river: a PHABSIM approach',\n",
       " 'YTVMZ36Z': 'History, rationale, and lessons learned: Thresholds of potential concern in Kruger National Park river adaptive management',\n",
       " '2DJR9MEH': 'Integrated Procedure for Environmental Flow Assessment in Rivers',\n",
       " 'F7TT8TMV': 'Designing river flows to improve food security futures in the Lower Mekong Basin.',\n",
       " 'J4IPA7ZT': 'Environmental Flow Assessment Using Water-Sediment Approach at the Sekampung River, Indonesia',\n",
       " 'NBYJ5JU2': 'Predicting Salmonid Habitat–Flow Relationships for Streams from Western North America'}"
      ]
     },
     "execution_count": 6,
     "metadata": {},
     "output_type": "execute_result"
    }
   ],
   "source": [
    "print(len(not_returned))\n",
    "not_returned"
   ]
  },
  {
   "cell_type": "code",
   "execution_count": null,
   "id": "2a15a8cf",
   "metadata": {},
   "outputs": [],
   "source": [
    "#Generalized models of riverine fish hydraulic habitat - not returned\n",
    "#Estimating Minimum Instream Flow Requirements for Minnesota Streams from Hydrologic Data and Watershed Characteristics - not returned in WoS\n",
    "#The Applicability of Instream Flow Incremental Methodology for Impact Assessment in Newfoundland not returned in WoS\n",
    "#Some Environmental Aspects of the Management of Water Supplies for the Region of Madrid - not returned in WoS\n",
    "#Application of the Instream Flow Incremental Methodology to conservation flow for freshwater fishes in Japan - Not returned - Conference Paper\n",
    "#Effects of instream enhancement structures on brown trout, Salmo trutta L., habitat availability in a channelized boreal river: a PHABSIM approach - not returned in WoS\n",
    "#Flow-recruitment relationships for Shoal Chub (Macrhybopsis hyostoma) and implications for managing environmental flows - not returned in WoS (maybe because of date)\n",
    "#Effects of experimental ramping rate of invertebrate community of a regulated river - not returned conference paper\n",
    "#Comparison of discharge methods and habitat optimization for recommending instream flows to protect fish habitat - not returned in WoS\n",
    "#Relative bias of several fisheries instream flow methods - not returned\n",
    "#Enhancement of benthic macroinvertebrates by minimum flow from a hydroelectric dam - not returned\n",
    "#Integrated Procedure for Environmental Flow Assessment in Rivers - not returned in WoS\n",
    "#Environmental Flow Assessment Using Water-Sediment Approach at the Sekampung River, Indonesia - not returned in WoS\n",
    "#Predicting Salmonid Habitat–Flow Relationships for Streams from Western North America = not returned\n",
    "#Enhancement of Fish Feeding and Growth after an Increase in Minimum Flow below the Conowingo Dam - not returned in WoS\n",
    "#The basic flow: an alternative approach to calculate minimum environmental instream flows - not returned conference paper\n",
    "\n",
    "\n",
    "#Hydrologic manipulations of the channelized Kissimmee river - Implications for restoration - RETURNED in WoS. Change string\n",
    "#History, rationale, and lessons learned: Thresholds of potential concern in Kruger National Park river adaptive management - RETURNED in WoS. Not possible to capture."
   ]
  }
 ],
 "metadata": {
  "kernelspec": {
   "display_name": "Python 3 (ipykernel)",
   "language": "python",
   "name": "python3"
  },
  "language_info": {
   "codemirror_mode": {
    "name": "ipython",
    "version": 3
   },
   "file_extension": ".py",
   "mimetype": "text/x-python",
   "name": "python",
   "nbconvert_exporter": "python",
   "pygments_lexer": "ipython3",
   "version": "3.12.3"
  }
 },
 "nbformat": 4,
 "nbformat_minor": 5
}
