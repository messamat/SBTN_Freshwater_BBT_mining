{
 "cells": [
  {
   "cell_type": "code",
   "execution_count": 103,
   "id": "88ace11a-e2de-4b54-a0e3-22fa42d251a6",
   "metadata": {},
   "outputs": [],
   "source": [
    "%run set_up.py\n",
    "%run lit_utility_functions_2025.ipynb\n",
    "\n",
    "#csv table where references' title, journal, year and DOI are written\n",
    "reflist_csv = Path(datdir, 'test_list.csv')\n",
    "#csv table with 200 sampled articles\n",
    "reflist_csv_sample = Path(datdir, 'test_list_sample.csv')"
   ]
  },
  {
   "cell_type": "code",
   "execution_count": null,
   "id": "4c31a76b-a210-4fcc-bcb5-d3483521ceeb",
   "metadata": {},
   "outputs": [],
   "source": [
    "#Import openalex records\n",
    "oalex_records_pkl = regex_list_files(in_dir=resdir, \n",
    "                       in_pattern='oalex_records_.*'\n",
    "                      )[-1]\n",
    "\n",
    "with open(oalex_records_pkl, 'rb') as f:\n",
    "    oalex_records_dict = pickle.load(f)\n",
    "\n",
    "oalex_records_pd = pd.concat(\n",
    "    [\n",
    "        list_of_dicts_to_dataframe(\n",
    "            list_of_dicts=search_records, \n",
    "            keys_to_keep=['id', 'doi', 'title']\n",
    "        ) \n",
    "        for search_records in oalex_records_dict.values()\n",
    "    ]\n",
    ")\n",
    "#print(oalex_records_pd)"
   ]
  },
  {
   "cell_type": "code",
   "execution_count": 78,
   "id": "9aea60dd-46c0-499a-a9e7-6d277b7b4b5e",
   "metadata": {},
   "outputs": [],
   "source": [
    "#Get titles and DOIs from test list\n",
    "testlist_title_dois = get_testlist(\n",
    "    library_id='4842799', \n",
    "    api_key_path=Path('zotero_key.txt'),\n",
    "    test_list_name='test list')\n",
    "#print(testlist_title_dois)"
   ]
  },
  {
   "cell_type": "code",
   "execution_count": 128,
   "id": "e6868141-1089-4705-8f97-71432ee7b0e0",
   "metadata": {},
   "outputs": [
    {
     "name": "stdout",
     "output_type": "stream",
     "text": [
      "assessing streamflow characteristics as limiting factors on benthic invertebrate assemblages in streams across the western united states\n",
      "https://doi.org/10.1111/j.1365-2427.2008.02024.x\n"
     ]
    }
   ],
   "source": [
    "check = list(testlist_title_dois.values())[0]\n",
    "print(re.sub(\"[^a-zA-Z\\d\\s]\", \"\", check[0].lower()))\n",
    "print(f'https://doi.org/{check[1]}')\n",
    "#set(oalex_records_pd.title.str.lower())"
   ]
  },
  {
   "cell_type": "code",
   "execution_count": 136,
   "id": "eec6b821-5e85-40bc-a91e-e11f032ab246",
   "metadata": {},
   "outputs": [
    {
     "name": "stdout",
     "output_type": "stream",
     "text": [
      "{'GSGR3DDN': 'Responses of Native and Nonnative Fishes to Natural Flow Regime Mimicry in the San Juan River', 'IP646MXV': 'Fish assemblages in subtropical rivers: low-flow hydrology dominates hydro-ecological relationships', 'TR45GP8C': 'Using abiotic drivers of fish spawning to inform environmental flow management', 'LABLENVA': 'Linking river flow regimes to riparian plant guilds: A community-wide modeling approach', '2HSSV9YE': 'Ecohydrological and socioeconomic integration for the operational management of environmental flows', 'N57I6QJF': 'Assessment of environmental flows under limited data availability: case study of the Acheloos River, Greece'}\n"
     ]
    }
   ],
   "source": [
    "#~~~~~~~~~~~~~~ Check which items in test list were retrieved through the search ~~~~~~~\n",
    "returned = {}\n",
    "not_returned = {}\n",
    "\n",
    "for k, v in testlist_title_dois.items():\n",
    "    if ((re.sub(\"[^a-zA-Z\\d\\s]\", \"\", v[0].lower()) \n",
    "         in set(oalex_records_pd.title.str.lower()))\n",
    "        or (f'https://doi.org/{v[1]}' in set(oalex_records_pd.doi))):\n",
    "        returned[k] = v[0]\n",
    "    else:\n",
    "        not_returned[k] = v[0]"
   ]
  },
  {
   "cell_type": "code",
   "execution_count": null,
   "id": "e464b09b-c266-4c04-8c56-f050e3403a20",
   "metadata": {},
   "outputs": [],
   "source": [
    "##################### NOT USED ANYMORE/YET/TOCHECK ##############################"
   ]
  },
  {
   "cell_type": "code",
   "execution_count": null,
   "id": "b8966f44-dfbc-4d38-8aa3-ed4899f16e6e",
   "metadata": {},
   "outputs": [],
   "source": [
    "###########CHECK: FOR WOS search\n",
    "#Read and compile references from the WoS search\n",
    "#into a single document set (lit_study format)\n",
    "reflist = rpickle_bibdocset(\n",
    "    in_dirpath=scoping_4_datdir, \n",
    "    in_pattern=\".*savedrecs(\\([0-9]{1,2}\\))*[.]bib\", \n",
    "    out_pickle=scoping_4_docset_pickle\n",
    ")\n",
    "\n",
    "#Write basic metadata from reference list to csv ~~~~~~~~~~~~~~~~\n",
    "#Get all dois and titles in references returned from search\n",
    "reflist_pd = tabulate_searchlist(in_reflist=reflist, \n",
    "                                 out_csvpath=reflist_csv) \n",
    "\n",
    "print(len(set(reflist_pd.title)))\n",
    "\n",
    "if not reflist_csv_sample.exists():\n",
    "    reflist_pd_sample = reflist_pd.sample(100)\n",
    "    reflist_pd_sample.to_csv(reflist_csv_sample)\n",
    "else: \n",
    "    reflist_pd_sample = pd.read_csv(reflist_csv_sample)\n",
    "\n",
    "#Compute the number of included and excluded references depending on all catgeories for each document\n",
    "#Format as a table to be examined\n",
    "wos_initlist_catsample_format = pd.read_csv(catsamplecsv_path)\n",
    "\n",
    "wos_catsample_stats = pd.melt(frame=wos_initlist_catsample_format,\n",
    "        id_vars=['Unnamed: 0', 'Inclusion'],\n",
    "        value_vars = wos_cat_split.columns,\n",
    "        #var_name='wos_catnum',\n",
    "        value_name = 'wos_catnum'\n",
    "        )\n",
    "\n",
    "wos_catsample_stats['wos_catnum'] = wos_catsample_stats['wos_catnum'].replace(r\"^ +| +$\", r\"\", regex=True)\n",
    "\n",
    "wos_catsample_stats = wos_catsample_stats.groupby(['wos_catnum', 'Inclusion']).size().to_frame('N').reset_index().\\\n",
    "    pivot(index='wos_catnum', columns='Inclusion')\n",
    "\n",
    "wos_catsample_stats.columns = wos_catsample_stats.columns.droplevel()\n",
    "wos_catsample_stats.reset_index(inplace=True)\n",
    "wos_catsample_stats = wos_catsample_stats.rename(columns={0:\"excluded\", 1:\"included\"}).\\\n",
    "    fillna(0)\n",
    "wos_catsample_stats['N'] = wos_catsample_stats['excluded'] + wos_catsample_stats['included']\n",
    "wos_catsample_stats.sort_values(['included','N'], ascending=[False, False]).\\\n",
    "to_csv(Path(scopdir, 'wos_search1_catsample_stats.csv'))"
   ]
  }
 ],
 "metadata": {
  "kernelspec": {
   "display_name": "Python 3 (ipykernel)",
   "language": "python",
   "name": "python3"
  },
  "language_info": {
   "codemirror_mode": {
    "name": "ipython",
    "version": 3
   },
   "file_extension": ".py",
   "mimetype": "text/x-python",
   "name": "python",
   "nbconvert_exporter": "python",
   "pygments_lexer": "ipython3",
   "version": "3.12.3"
  }
 },
 "nbformat": 4,
 "nbformat_minor": 5
}