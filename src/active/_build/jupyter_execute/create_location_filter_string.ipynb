{
 "cells": [
  {
   "cell_type": "code",
   "execution_count": 112,
   "id": "bed29501-9995-4f65-b400-1b7b493f5b3d",
   "metadata": {},
   "outputs": [],
   "source": [
    "%run get_target_toponyms.ipynb\n",
    "%run lit_utility_functions_2025.ipynb\n",
    "\n",
    "from datetime import datetime, UTC\n",
    "import nltk\n",
    "from nltk.util import ngrams\n",
    "import re\n",
    "import warnings\n",
    "\n",
    "verbose=True"
   ]
  },
  {
   "cell_type": "code",
   "execution_count": 78,
   "id": "f357c3cb-9124-4a4b-884f-16c85b936c71",
   "metadata": {},
   "outputs": [],
   "source": [
    "test_pts_path = os.path.join(datdir, 'test_gages', 'test_gages.shp')\n",
    "\n",
    "wbd_path = os.path.join(nhd_dir, 'WBD_National_GDB.gdb')\n",
    "hu12_parquet = os.path.join(nhd_dir, 'wbd_hu12list.parquet')\n",
    "gadm_path = os.path.join(gadm_dir, 'gadm_410-levels.gpkg')"
   ]
  },
  {
   "cell_type": "code",
   "execution_count": 80,
   "id": "ca36aed4-1d6b-4ef8-bf53-6a572d9a24b9",
   "metadata": {
    "editable": true,
    "slideshow": {
     "slide_type": ""
    },
    "tags": []
   },
   "outputs": [],
   "source": [
    "#Get hydronyms from NHD\n",
    "all_huc12_list = create_huc12_list(wbd_path, hu12_parquet)\n",
    "\n",
    "target_huc_pd = get_matching_NHD_HU(\n",
    "    in_wbd_path=wbd_path,\n",
    "    in_vector=test_pts_path,\n",
    "    in_refids_parquet=hu12_parquet,\n",
    "    hull=True,\n",
    "    sjoin_predicate='intersects'\n",
    ")"
   ]
  },
  {
   "cell_type": "code",
   "execution_count": 125,
   "id": "5f92afe8-e72a-4991-96d0-4163de1f92d0",
   "metadata": {},
   "outputs": [
    {
     "name": "stdout",
     "output_type": "stream",
     "text": [
      "Getting NHD basin names\n"
     ]
    }
   ],
   "source": [
    "target_nhd_hydronyms = get_nhd_hydronyms(\n",
    "    in_hucs=target_huc_pd,\n",
    "    in_wbd_path=wbd_path,\n",
    "    out_dir = os.path.join(nhd_dir, 'nhdplus_hr'),\n",
    "    huc_range=[2, 4, 6],\n",
    "    flatten=True,\n",
    "    verbose=False\n",
    ")"
   ]
  },
  {
   "cell_type": "code",
   "execution_count": 82,
   "id": "f2d40906-85a2-4b2f-8c11-9dae6c0f42f0",
   "metadata": {},
   "outputs": [],
   "source": [
    "target_gadm_lev1 = get_gadm_lev1_dict(\n",
    "    in_gadm_path=gadm_path,\n",
    "    in_vector=test_pts_path,\n",
    "    hull=True,\n",
    "    sjoin_predicate='intersects'\n",
    ")"
   ]
  },
  {
   "cell_type": "code",
   "execution_count": 117,
   "id": "6061e553-7846-47fc-a066-8438a8faf116",
   "metadata": {},
   "outputs": [],
   "source": [
    "#Make a flattened set\n",
    "target_toponyms_list = target_nhd_hydronyms.copy()\n",
    "target_toponyms_list.update(target_gadm_lev1['NAME_1'].tolist())\n",
    "\n",
    "#Serialize toponyms\n",
    "target_toponyms_pkl = os.path.join(\n",
    "    resdir, \n",
    "    f\"target_toponyms_umrb_{datetime.now(UTC).strftime('%Y%m%d%H%M')}.pkl\"\n",
    ")\n",
    "with open(target_toponyms_pkl, 'wb') as f:\n",
    "    pickle.dump(target_toponyms_list, f)"
   ]
  },
  {
   "cell_type": "code",
   "execution_count": 142,
   "id": "c3a685ec-f7dd-4364-bf1d-f36cacc656fe",
   "metadata": {},
   "outputs": [
    {
     "name": "stdout",
     "output_type": "stream",
     "text": [
      "909\n"
     ]
    }
   ],
   "source": [
    "print(len(target_toponyms_list))"
   ]
  },
  {
   "cell_type": "code",
   "execution_count": null,
   "id": "e3e9ff2b-bc4c-4ace-9575-be40c256f0eb",
   "metadata": {},
   "outputs": [],
   "source": []
  }
 ],
 "metadata": {
  "kernelspec": {
   "display_name": "Python 3 (ipykernel)",
   "language": "python",
   "name": "python3"
  },
  "language_info": {
   "codemirror_mode": {
    "name": "ipython",
    "version": 3
   },
   "file_extension": ".py",
   "mimetype": "text/x-python",
   "name": "python",
   "nbconvert_exporter": "python",
   "pygments_lexer": "ipython3",
   "version": "3.12.3"
  }
 },
 "nbformat": 4,
 "nbformat_minor": 5
}