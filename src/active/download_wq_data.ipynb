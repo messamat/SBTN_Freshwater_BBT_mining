{
 "cells": [
  {
   "cell_type": "markdown",
   "id": "15818f71-4b39-4d5f-8efb-8d9bf884ad4b",
   "metadata": {},
   "source": [
    "# Download water quality sample data"
   ]
  },
  {
   "cell_type": "code",
   "execution_count": 7,
   "id": "e035ce59-1e24-4870-8560-ed60dbe27c94",
   "metadata": {},
   "outputs": [
    {
     "name": "stdout",
     "output_type": "stream",
     "text": [
      "Creating D:\\WWF_SBTN\\BTT_analysis\\data\\epa_wq\n"
     ]
    }
   ],
   "source": [
    "%run set_up.py\n",
    "\n",
    "import dataretrieval.nwis as nwis\n",
    "import dataretrieval.wqp as wqp\n",
    "import numpy as np\n",
    "import pandas as pd\n",
    "\n",
    "\n",
    "# Define the state codes for the Mississippi River Basin\n",
    "ms_statec_list = [\"MN\", \"WI\", \"IA\", \"IL\", \"MO\", \"KY\", \"TN\", \"AR\", \"MS\", \"LA\"]\n",
    "huc2_list = ['07', '08']\n",
    "\n",
    "# Define output directories\n",
    "wq_dir = os.path.join(datdir, 'epa_wq')\n",
    "# Create output directory if it doesn't exist\n",
    "if not os.path.exists(wq_dir):\n",
    "    print(f'Creating {wq_dir}')\n",
    "    os.makedirs(wq_dir)"
   ]
  },
  {
   "cell_type": "markdown",
   "id": "fa55fc2e-569b-4dce-9bbb-3259f15c8457",
   "metadata": {},
   "source": [
    "## Get list of water quality codes"
   ]
  },
  {
   "cell_type": "code",
   "execution_count": null,
   "id": "2d413006-9ff8-42a9-b39a-f8986e35bd42",
   "metadata": {},
   "outputs": [],
   "source": [
    "##https://help.waterdata.usgs.gov/codes-and-parameters"
   ]
  },
  {
   "cell_type": "code",
   "execution_count": null,
   "id": "ecb55e8e-5e4e-4ea2-980d-d84abd0b4940",
   "metadata": {},
   "outputs": [],
   "source": [
    "# Get site list for water quality\n",
    "sites_q_dict = {}\n",
    "for huc in huc2_list:\n",
    "    sites_q_dict[huc] = nwis.get_info(huc=huc, parameterCd=\"00060\", siteType=\"ST\")"
   ]
  },
  {
   "cell_type": "code",
   "execution_count": null,
   "id": "d251bc3e-265a-4525-84f1-29b72af0ee66",
   "metadata": {},
   "outputs": [],
   "source": [
    "epa_water_quality_params = {\n",
    "    \"bBox\": \"-100.0,28.0,-82.0,48.0\",  # Bounding box for the Mississippi River Basin\n",
    "    \"siteType\": \"Stream\",\n",
    "    \"sampleMedia\": \"Water\"\n",
    "}\n",
    "\n",
    "# Fetch EPA water quality data\n",
    "epa_water_quality_data = wqp.Result(bBox=\"-100.0,28.0,-82.0,48.0\", siteType='Stream', sampleMedia='Water')\n",
    "print(\"EPA Water Quality Data: \")\n",
    "print(epa_water_quality_data)"
   ]
  },
  {
   "cell_type": "markdown",
   "id": "af57d10a-111a-42dc-a400-7d89814ef445",
   "metadata": {},
   "source": [
    "# Download water quality standard"
   ]
  },
  {
   "cell_type": "code",
   "execution_count": null,
   "id": "c365587a-f4f9-4a21-817f-502eb9561673",
   "metadata": {},
   "outputs": [],
   "source": [
    "#https://www.epa.gov/wqc/national-recommended-water-quality-criteria-aquatic-life-criteria-table#table\n",
    "#https://www.epa.gov/wqs-tech/state-specific-water-quality-standards-effective-under-clean-water-act-cwa\n"
   ]
  },
  {
   "cell_type": "markdown",
   "id": "b02d3e7f-c055-49b4-8c3f-e569a19ea2c5",
   "metadata": {},
   "source": [
    "# NARS"
   ]
  },
  {
   "cell_type": "code",
   "execution_count": null,
   "id": "d7fa3b36-46c2-4424-a373-07bef1ca657a",
   "metadata": {},
   "outputs": [],
   "source": [
    "#https://rconnect-public.epa.gov/nars-data-download/"
   ]
  }
 ],
 "metadata": {
  "kernelspec": {
   "display_name": "Python 3 (ipykernel)",
   "language": "python",
   "name": "python3"
  },
  "language_info": {
   "codemirror_mode": {
    "name": "ipython",
    "version": 3
   },
   "file_extension": ".py",
   "mimetype": "text/x-python",
   "name": "python",
   "nbconvert_exporter": "python",
   "pygments_lexer": "ipython3",
   "version": "3.12.3"
  }
 },
 "nbformat": 4,
 "nbformat_minor": 5
}
