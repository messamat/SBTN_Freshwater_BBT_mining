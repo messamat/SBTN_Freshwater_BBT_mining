{
 "cells": [
  {
   "cell_type": "code",
   "execution_count": 1,
   "id": "407b6564-d71c-4904-b709-f04ccb6f78c6",
   "metadata": {},
   "outputs": [],
   "source": [
    "%run set_up.py \n",
    "\n",
    "import boto3\n",
    "import py7zr\n",
    "import re\n",
    "import requests\n",
    "import shutil\n",
    "from urllib.parse import urlparse\n",
    "from zipfile import ZipFile"
   ]
  },
  {
   "cell_type": "code",
   "execution_count": 15,
   "id": "e4d53253-cb10-4436-9e57-6844f30d19aa",
   "metadata": {},
   "outputs": [],
   "source": [
    "def download_and_extract_zip(in_url, out_dir, out_zip_name=None):\n",
    "    \"\"\"\n",
    "    Download and extract zip file\n",
    "    \n",
    "    Parameters:\n",
    "    url (str): URL to download the zip file\n",
    "    out_dir (str): Directory to save and extract the files\n",
    "    \n",
    "    Returns:\n",
    "    str: Path to the extracted GDB directory\n",
    "    \"\"\"\n",
    "    \n",
    "    # Create output directory if it doesn't exist\n",
    "    if not os.path.exists(out_dir):\n",
    "        print(f'Creating {out_dir}')\n",
    "        os.makedirs(out_dir)\n",
    "\n",
    "    # Get filename from URL if not provided\n",
    "    if out_zip_name is None:\n",
    "        print('Did not provide output zip file name, extracting from URL')\n",
    "        out_zip_name = os.path.basename(urlparse(in_url).path)\n",
    "        \n",
    "        # Check if file has zip or 7z extension\n",
    "        if not re.match(r'.*\\.(zip|7z)$', out_zip_name):\n",
    "            raise ValueError(\"Could not extract file name with zip or 7z extension from URL\")\n",
    "\n",
    "    out_zip_path = os.path.join(out_dir, out_zip_name)\n",
    "    \n",
    "    # Download the file\n",
    "    print(f\"Downloading from {in_url}...\")\n",
    "    response = requests.get(in_url, stream=True)\n",
    "    response.raise_for_status()  # Raise an error for bad status codes\n",
    "    \n",
    "    # Save the zip file\n",
    "    if not os.path.exists(out_zip_path):\n",
    "        with open(out_zip_path, 'wb') as f:\n",
    "            shutil.copyfileobj(response.raw, f)\n",
    "    \n",
    "    # Extract the zip file\n",
    "    print(\"Extracting zip file...\")\n",
    "    with ZipFile(out_zip_path, 'r') as zip_ref:\n",
    "        zip_ref.extractall(out_dir)\n",
    "        # Get the name of the first directory in the zip file\n",
    "        first_file = zip_ref.namelist()[0]\n",
    "        unzipped_dir = os.path.dirname(first_file)\n",
    "    \n",
    "    # Return the path to the extracted GDB directory\n",
    "    return os.path.join(out_dir, unzipped_dir)"
   ]
  },
  {
   "cell_type": "code",
   "execution_count": null,
   "id": "cc17d42b-5d1f-40b1-891a-addc983554c4",
   "metadata": {},
   "outputs": [
    {
     "name": "stdout",
     "output_type": "stream",
     "text": [
      "Did not provide output zip file name, extracting from URL\n",
      "Downloading from https://prd-tnm.s3.amazonaws.com/StagedProducts/Hydrography/WBD/National/GDB/WBD_National_GDB.zip...\n"
     ]
    }
   ],
   "source": [
    "#Download Water Body Dataset\n",
    "wbd_url = \"https://prd-tnm.s3.amazonaws.com/StagedProducts/Hydrography/WBD/National/GDB/WBD_National_GDB.zip\"\n",
    "nhd_dir = os.path.join(datdir, \"nhd\")  # Adjust this path as needed\n",
    "\n",
    "try:\n",
    "    extracted_path = download_and_extract_zip(in_url=wbd_url, \n",
    "                                              out_dir=nhd_dir)\n",
    "    print(f\"Files extracted to: {extracted_path}\")\n",
    "except Exception as e:\n",
    "    print(f\"An error occurred: {str(e)}\")"
   ]
  },
  {
   "cell_type": "code",
   "execution_count": null,
   "id": "2d9b59b3-8c00-43b9-b4cd-d0493176e741",
   "metadata": {},
   "outputs": [],
   "source": [
    "#Download GLOWS (for now)\n",
    "def download_s3_bucket_contents():\n",
    "    # Parse the URL to get bucket name\n",
    "    bucket_name = \"geoglows-v2\"\n",
    "    \n",
    "    # Create an S3 client\n",
    "    s3 = boto3.client('s3',\n",
    "                      region_name='us-west-2',\n",
    "                      config=boto3.Config(signature_version=boto3.UNSIGNED))\n",
    "    \n",
    "    # Create a directory to store downloads\n",
    "    if not os.path.exists('downloads'):\n",
    "        os.makedirs('downloads')\n",
    "    \n",
    "    try:\n",
    "        # List all objects in the bucket\n",
    "        paginator = s3.get_paginator('list_objects_v2')\n",
    "        page_iterator = paginator.paginate(Bucket=bucket_name, Prefix='streams/')\n",
    "        \n",
    "        # Download each object\n",
    "        for page in page_iterator:\n",
    "            if 'Contents' in page:\n",
    "                for obj in page['Contents']:\n",
    "                    # Get the object key\n",
    "                    key = obj['Key']\n",
    "                    \n",
    "                    # Create local directory structure if needed\n",
    "                    local_path = os.path.join('downloads', key)\n",
    "                    os.makedirs(os.path.dirname(local_path), exist_ok=True)\n",
    "                    \n",
    "                    # Download the file\n",
    "                    print(f\"Downloading: {key}\")\n",
    "                    s3.download_file(bucket_name, key, local_path)\n",
    "                    \n",
    "        print(\"Download completed successfully!\")\n",
    "        \n",
    "    except Exception as e:\n",
    "        print(f\"An error occurred: {str(e)}\")\n",
    "\n",
    "# Execute the function\n",
    "if __name__ == \"__main__\":\n",
    "    download_s3_bucket_contents()\n",
    "\n"
   ]
  },
  {
   "cell_type": "code",
   "execution_count": null,
   "id": "6b000aee-d8d8-468d-ad3e-af03fd04b522",
   "metadata": {},
   "outputs": [],
   "source": [
    "#Download GADM\n"
   ]
  }
 ],
 "metadata": {
  "kernelspec": {
   "display_name": "Python [conda env:base] *",
   "language": "python",
   "name": "conda-base-py"
  },
  "language_info": {
   "codemirror_mode": {
    "name": "ipython",
    "version": 3
   },
   "file_extension": ".py",
   "mimetype": "text/x-python",
   "name": "python",
   "nbconvert_exporter": "python",
   "pygments_lexer": "ipython3",
   "version": "3.12.7"
  }
 },
 "nbformat": 4,
 "nbformat_minor": 5
}
