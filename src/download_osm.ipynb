{
 "cells": [
  {
   "cell_type": "code",
   "execution_count": 94,
   "id": "cb8e8b5f-280a-4e6e-9c16-43c14146ffc0",
   "metadata": {},
   "outputs": [],
   "source": [
    "%run set_up.py \n",
    "\n",
    "import pyrosm\n",
    "import geopandas as gpd\n",
    "import shapely\n",
    "import os\n",
    "\n",
    "test_pts_path = os.path.join(datdir, 'test_gages', 'test_gages.shp')"
   ]
  },
  {
   "cell_type": "code",
   "execution_count": 52,
   "id": "61554a41-0704-4586-a5ce-11b645c719fd",
   "metadata": {},
   "outputs": [
    {
     "data": {
      "text/plain": [
       "'\\nDownloads and processes OSM waterway data using pyrosm, filters for rivers and streams,\\nand optionally subsets it with a polygon GeoDataFrame.\\n\\nArgs:\\n    bbox (tuple, list, shapely.geometry.Polygon, or shapely.geometry.MultiPolygon):\\n        Bounding box (north, south, east, west) or a Shapely Polygon.\\n    polygon_file (str, optional): Path to a polygon file for subsetting. Defaults to None.\\n    polygon_layer (str, optional): Layer name if polygon_file is a GeoPackage. Defaults to None.\\n\\nReturns:\\n    geopandas.GeoDataFrame:  Filtered (and optionally subsetted) GeoDataFrame, or None if an error occurs.\\n\\nRaises:\\n    TypeError: If bbox is not a tuple, list, Polygon, or MultiPolygon.\\n    ValueError: If bbox coordinates are invalid.\\n    Exception:  For other errors during data retrieval or processing\\n'"
      ]
     },
     "execution_count": 52,
     "metadata": {},
     "output_type": "execute_result"
    }
   ],
   "source": [
    "\"\"\"\n",
    "Downloads and processes OSM waterway data using pyrosm, filters for rivers and streams,\n",
    "and optionally subsets it with a polygon GeoDataFrame.\n",
    "\n",
    "Args:\n",
    "    bbox (tuple, list, shapely.geometry.Polygon, or shapely.geometry.MultiPolygon):\n",
    "        Bounding box (north, south, east, west) or a Shapely Polygon.\n",
    "    polygon_file (str, optional): Path to a polygon file for subsetting. Defaults to None.\n",
    "    polygon_layer (str, optional): Layer name if polygon_file is a GeoPackage. Defaults to None.\n",
    "\n",
    "Returns:\n",
    "    geopandas.GeoDataFrame:  Filtered (and optionally subsetted) GeoDataFrame, or None if an error occurs.\n",
    "\n",
    "Raises:\n",
    "    TypeError: If bbox is not a tuple, list, Polygon, or MultiPolygon.\n",
    "    ValueError: If bbox coordinates are invalid.\n",
    "    Exception:  For other errors during data retrieval or processing\n",
    "\"\"\""
   ]
  },
  {
   "cell_type": "code",
   "execution_count": 96,
   "id": "2734a5f5-ab70-4e18-8657-caa4e68da6f3",
   "metadata": {},
   "outputs": [
    {
     "name": "stdout",
     "output_type": "stream",
     "text": [
      "Downloaded Protobuf data 'Helsinki.osm.pbf' (41.14 MB) to:\n",
      "'C:\\Users\\MAMESS~1\\AppData\\Local\\Temp\\pyrosm\\Helsinki.osm.pbf'\n",
      "C:\\Users\\MAMESS~1\\AppData\\Local\\Temp\\pyrosm\\Helsinki.osm.pbf\n"
     ]
    }
   ],
   "source": [
    "def process_osm_waterways_pyrosm(bbox, out_dir): #, polygon_file=None, polygon_layer=None\n",
    "    # Create output directory if it doesn't exist\n",
    "    if not os.path.exists(out_dir):\n",
    "        print(f'Creating {out_dir}')\n",
    "        os.makedirs(out_dir)\n",
    "        \n",
    "    #Bounding Box Handling -----------------------------------------------------\n",
    "    if isinstance(bbox, (tuple, list)): #minx, miny, maxx, maxy\n",
    "        if len(bbox) != 4:\n",
    "            raise ValueError(\"Bounding box must have 4 coordinates (north, south, east, west)\")\n",
    "        west, south, east, north = bbox\n",
    "        bbox_polygon = shapely.box(xmin=west, ymin=south, \n",
    "                                            xmax=east, ymax=north)  # Use shapely.geometry.box\n",
    "    elif isinstance(bbox, (shapely.geometry.Polygon, shapely.geometry.MultiPolygon)):\n",
    "        bbox_polygon = bbox\n",
    "        west, south, east, north = bbox_polygon.bounds\n",
    "    else:\n",
    "        raise TypeError(\"bbox must be a tuple, list, Polygon, or MultiPolygon\")\n",
    "\n",
    "    #Get PBF references\n",
    "    #https://github.com/pyrosm/pyrosm/pull/201\n",
    "    print(bbox_polygon)\n",
    "    suggest = Suggest()\n",
    "    pbf_list = suggest.regions(bbox_polygon)\n",
    "    print(pbf_list)\n",
    "\n",
    "    \n",
    "    # # --- Download PBF (if it doesn't exist) ---\n",
    "    # # Use get_data to automatically download a suitable PBF file\n",
    "    # fp = pyrosm.get_data(bbox_polygon, directory=\"./\")  # Downloads to current directory\n",
    "\n",
    "    # if not os.path.exists(fp):\n",
    "    #     print(f\"Could not download PBF file for the given bounding box.\")\n",
    "    #     return None\n",
    "\n",
    "\n",
    "    # # --- Initialize OSM Object ---\n",
    "    # osm = OSM(fp)\n",
    "\n",
    "    # # --- Get Waterways (Filtered During Read) ---\n",
    "    # # This is the key performance advantage of pyrosm: filtering *during* the read.\n",
    "    # waterways = osm.get_waterways(custom_filter={\"waterway\": [\"river\", \"stream\"]})\n",
    "\n",
    "    # if waterways is None or waterways.empty:\n",
    "    #     print(\"No rivers or streams found within the bounding box.\")\n",
    "    #     return None\n",
    "    \n",
    "    # print(f\"Read {len(waterways)} rivers and streams using pyrosm.  Inspecting...\")\n",
    "    # print(waterways.info())\n",
    "\n",
    "\n",
    "test_bbox = gpd.read_file(test_pts_path).total_bounds.tolist() #minx, miny, maxx, maxy\n",
    "\n",
    "fp = pyrosm.get_data(\"Helsinki\")\n",
    "print(fp)"
   ]
  },
  {
   "cell_type": "code",
   "execution_count": 92,
   "id": "3b959b3c-cc45-460f-9db9-a693e5e60954",
   "metadata": {},
   "outputs": [
    {
     "name": "stdout",
     "output_type": "stream",
     "text": [
      "[]\n",
      "[]\n"
     ]
    }
   ],
   "source": [
    "suggest = Suggest()\n",
    "chicago = shapely.geometry.box(-87.629, 41.878, -87.614, 41.902)\n",
    "abuja = shapely.geometry.box(7.5, 9.5, 7.6, 9.6)\n",
    "\n",
    "print(suggest.continents(chicago))\n",
    "print(suggest.cities(chicago))"
   ]
  },
  {
   "cell_type": "code",
   "execution_count": null,
   "id": "6efa9f75-cc65-4cbf-a8a3-d4a60ea22c38",
   "metadata": {},
   "outputs": [],
   "source": [
    "\n",
    "        # --- Subsetting (Optional) ---\n",
    "        if polygon_file:\n",
    "            try:\n",
    "                if polygon_layer:\n",
    "                    polygon_gdf = gpd.read_file(polygon_file, layer=polygon_layer)\n",
    "                else:\n",
    "                    polygon_gdf = gpd.read_file(polygon_file)\n",
    "\n",
    "                # Ensure same CRS (reproject if needed)\n",
    "                if waterways.crs != polygon_gdf.crs:\n",
    "                    print(f\"Reprojecting polygons to {waterways.crs}\")\n",
    "                    polygon_gdf = polygon_gdf.to_crs(waterways.crs)\n",
    "\n",
    "                waterways_subset = waterways.clip(polygon_gdf)\n",
    "\n",
    "                if waterways_subset.empty:\n",
    "                    print(\"No rivers/streams within polygons after subsetting.\")\n",
    "                    return None\n",
    "                else:\n",
    "                    print(f\"Subsetted to {len(waterways_subset)} rivers/streams.\")\n",
    "                    return waterways_subset\n",
    "\n",
    "            except Exception as e:\n",
    "                print(f\"Error reading or processing polygon file: {e}\")\n",
    "                return None\n",
    "\n",
    "        else: # Return without subsetting.\n",
    "            return waterways\n",
    "\n",
    "\n",
    "    except Exception as e:\n",
    "        print(f\"An error occurred: {e}\")\n",
    "        return None\n",
    "    finally:\n",
    "        # Clean up the downloaded PBF file (optional, but good practice)\n",
    "        if 'fp' in locals() and os.path.exists(fp):  # Check if fp was defined\n",
    "            os.remove(fp)"
   ]
  },
  {
   "cell_type": "code",
   "execution_count": null,
   "id": "d314534c-1cdd-426d-b4bd-006e1bc3c829",
   "metadata": {},
   "outputs": [],
   "source": [
    "# --- Example Usage ---\n",
    "\n",
    "# 1. Download using a bounding box (tuple):\n",
    "bbox = (34.3, 33.5, -117.5, -118.6)  # (north, south, east, west)\n",
    "rivers_bbox_pyrosm = process_osm_waterways_pyrosm(bbox)\n",
    "if rivers_bbox_pyrosm is not None:\n",
    "    print(\"\\nRivers and streams within bounding box (pyrosm, first 5 rows):\")\n",
    "    print(rivers_bbox_pyrosm.head())\n",
    "\n",
    "\n",
    "# --- Create a dummy GeoPackage (for demonstration) ---\n",
    "data = {'id': [1, 2],\n",
    "        'geometry': [Polygon([(-118.2, 33.7), (-118.1, 33.7), (-118.1, 33.8), (-118.2, 33.8)]),\n",
    "                     Polygon([(-117.8, 33.9), (-117.7, 33.9), (-117.7, 34.0), (-117.8, 34.0)])]}\n",
    "dummy_gdf = gpd.GeoDataFrame(data, crs=\"EPSG:4326\")\n",
    "dummy_gdf.to_file(\"dummy_polygons3.gpkg\", layer='basins', driver=\"GPKG\")\n",
    "\n",
    "# 2. Download with bbox AND subset with polygons:\n",
    "bbox = (34.3, 33.5, -117.5, -118.6)\n",
    "rivers_subset_pyrosm = process_osm_waterways_pyrosm(bbox, polygon_file=\"dummy_polygons3.gpkg\", polygon_layer=\"basins\")\n",
    "\n",
    "if rivers_subset_pyrosm is not None:\n",
    "    print(\"\\nRivers and streams (pyrosm, subsetted, first 5 rows):\")\n",
    "    print(rivers_subset_pyrosm.head())\n",
    "\n",
    "os.remove(\"dummy_polygons3.gpkg\") #Cleanup"
   ]
  },
  {
   "cell_type": "code",
   "execution_count": 8,
   "id": "dc9ac66d-19fc-44c2-bc79-a2b88259e3ba",
   "metadata": {},
   "outputs": [
    {
     "ename": "HTTPError",
     "evalue": "HTTP Error 400: Bad Request",
     "output_type": "error",
     "traceback": [
      "\u001b[1;31m---------------------------------------------------------------------------\u001b[0m",
      "\u001b[1;31mHTTPError\u001b[0m                                 Traceback (most recent call last)",
      "Cell \u001b[1;32mIn[8], line 13\u001b[0m\n\u001b[0;32m      9\u001b[0m api_key \u001b[38;5;241m=\u001b[39m \u001b[38;5;124m'\u001b[39m\u001b[38;5;124mYOUR_API_KEY_HERE\u001b[39m\u001b[38;5;124m'\u001b[39m\n\u001b[0;32m     11\u001b[0m url \u001b[38;5;241m=\u001b[39m \u001b[38;5;124mf\u001b[39m\u001b[38;5;124m\"\u001b[39m\u001b[38;5;124mhttps://osm.buntinglabs.com/v1/osm/extract?bbox=\u001b[39m\u001b[38;5;132;01m{\u001b[39;00mbbox\u001b[38;5;132;01m}\u001b[39;00m\u001b[38;5;124m&tags=\u001b[39m\u001b[38;5;132;01m{\u001b[39;00mtags\u001b[38;5;132;01m}\u001b[39;00m\u001b[38;5;124m&api_key=\u001b[39m\u001b[38;5;132;01m{\u001b[39;00mapi_key\u001b[38;5;132;01m}\u001b[39;00m\u001b[38;5;124m\"\u001b[39m\n\u001b[1;32m---> 13\u001b[0m \u001b[38;5;28;01mwith\u001b[39;00m urllib\u001b[38;5;241m.\u001b[39mrequest\u001b[38;5;241m.\u001b[39murlopen(url) \u001b[38;5;28;01mas\u001b[39;00m response:\n\u001b[0;32m     14\u001b[0m     osm_data \u001b[38;5;241m=\u001b[39m response\u001b[38;5;241m.\u001b[39mread()\u001b[38;5;241m.\u001b[39mdecode()\n\u001b[0;32m     16\u001b[0m df \u001b[38;5;241m=\u001b[39m gpd\u001b[38;5;241m.\u001b[39mread_file(osm_data, driver\u001b[38;5;241m=\u001b[39m\u001b[38;5;124m'\u001b[39m\u001b[38;5;124mGeoJSON\u001b[39m\u001b[38;5;124m'\u001b[39m)\n",
      "File \u001b[1;32m~\\anaconda3\\Lib\\urllib\\request.py:215\u001b[0m, in \u001b[0;36murlopen\u001b[1;34m(url, data, timeout, cafile, capath, cadefault, context)\u001b[0m\n\u001b[0;32m    213\u001b[0m \u001b[38;5;28;01melse\u001b[39;00m:\n\u001b[0;32m    214\u001b[0m     opener \u001b[38;5;241m=\u001b[39m _opener\n\u001b[1;32m--> 215\u001b[0m \u001b[38;5;28;01mreturn\u001b[39;00m opener\u001b[38;5;241m.\u001b[39mopen(url, data, timeout)\n",
      "File \u001b[1;32m~\\anaconda3\\Lib\\urllib\\request.py:521\u001b[0m, in \u001b[0;36mOpenerDirector.open\u001b[1;34m(self, fullurl, data, timeout)\u001b[0m\n\u001b[0;32m    519\u001b[0m \u001b[38;5;28;01mfor\u001b[39;00m processor \u001b[38;5;129;01min\u001b[39;00m \u001b[38;5;28mself\u001b[39m\u001b[38;5;241m.\u001b[39mprocess_response\u001b[38;5;241m.\u001b[39mget(protocol, []):\n\u001b[0;32m    520\u001b[0m     meth \u001b[38;5;241m=\u001b[39m \u001b[38;5;28mgetattr\u001b[39m(processor, meth_name)\n\u001b[1;32m--> 521\u001b[0m     response \u001b[38;5;241m=\u001b[39m meth(req, response)\n\u001b[0;32m    523\u001b[0m \u001b[38;5;28;01mreturn\u001b[39;00m response\n",
      "File \u001b[1;32m~\\anaconda3\\Lib\\urllib\\request.py:630\u001b[0m, in \u001b[0;36mHTTPErrorProcessor.http_response\u001b[1;34m(self, request, response)\u001b[0m\n\u001b[0;32m    627\u001b[0m \u001b[38;5;66;03m# According to RFC 2616, \"2xx\" code indicates that the client's\u001b[39;00m\n\u001b[0;32m    628\u001b[0m \u001b[38;5;66;03m# request was successfully received, understood, and accepted.\u001b[39;00m\n\u001b[0;32m    629\u001b[0m \u001b[38;5;28;01mif\u001b[39;00m \u001b[38;5;129;01mnot\u001b[39;00m (\u001b[38;5;241m200\u001b[39m \u001b[38;5;241m<\u001b[39m\u001b[38;5;241m=\u001b[39m code \u001b[38;5;241m<\u001b[39m \u001b[38;5;241m300\u001b[39m):\n\u001b[1;32m--> 630\u001b[0m     response \u001b[38;5;241m=\u001b[39m \u001b[38;5;28mself\u001b[39m\u001b[38;5;241m.\u001b[39mparent\u001b[38;5;241m.\u001b[39merror(\n\u001b[0;32m    631\u001b[0m         \u001b[38;5;124m'\u001b[39m\u001b[38;5;124mhttp\u001b[39m\u001b[38;5;124m'\u001b[39m, request, response, code, msg, hdrs)\n\u001b[0;32m    633\u001b[0m \u001b[38;5;28;01mreturn\u001b[39;00m response\n",
      "File \u001b[1;32m~\\anaconda3\\Lib\\urllib\\request.py:559\u001b[0m, in \u001b[0;36mOpenerDirector.error\u001b[1;34m(self, proto, *args)\u001b[0m\n\u001b[0;32m    557\u001b[0m \u001b[38;5;28;01mif\u001b[39;00m http_err:\n\u001b[0;32m    558\u001b[0m     args \u001b[38;5;241m=\u001b[39m (\u001b[38;5;28mdict\u001b[39m, \u001b[38;5;124m'\u001b[39m\u001b[38;5;124mdefault\u001b[39m\u001b[38;5;124m'\u001b[39m, \u001b[38;5;124m'\u001b[39m\u001b[38;5;124mhttp_error_default\u001b[39m\u001b[38;5;124m'\u001b[39m) \u001b[38;5;241m+\u001b[39m orig_args\n\u001b[1;32m--> 559\u001b[0m     \u001b[38;5;28;01mreturn\u001b[39;00m \u001b[38;5;28mself\u001b[39m\u001b[38;5;241m.\u001b[39m_call_chain(\u001b[38;5;241m*\u001b[39margs)\n",
      "File \u001b[1;32m~\\anaconda3\\Lib\\urllib\\request.py:492\u001b[0m, in \u001b[0;36mOpenerDirector._call_chain\u001b[1;34m(self, chain, kind, meth_name, *args)\u001b[0m\n\u001b[0;32m    490\u001b[0m \u001b[38;5;28;01mfor\u001b[39;00m handler \u001b[38;5;129;01min\u001b[39;00m handlers:\n\u001b[0;32m    491\u001b[0m     func \u001b[38;5;241m=\u001b[39m \u001b[38;5;28mgetattr\u001b[39m(handler, meth_name)\n\u001b[1;32m--> 492\u001b[0m     result \u001b[38;5;241m=\u001b[39m func(\u001b[38;5;241m*\u001b[39margs)\n\u001b[0;32m    493\u001b[0m     \u001b[38;5;28;01mif\u001b[39;00m result \u001b[38;5;129;01mis\u001b[39;00m \u001b[38;5;129;01mnot\u001b[39;00m \u001b[38;5;28;01mNone\u001b[39;00m:\n\u001b[0;32m    494\u001b[0m         \u001b[38;5;28;01mreturn\u001b[39;00m result\n",
      "File \u001b[1;32m~\\anaconda3\\Lib\\urllib\\request.py:639\u001b[0m, in \u001b[0;36mHTTPDefaultErrorHandler.http_error_default\u001b[1;34m(self, req, fp, code, msg, hdrs)\u001b[0m\n\u001b[0;32m    638\u001b[0m \u001b[38;5;28;01mdef\u001b[39;00m \u001b[38;5;21mhttp_error_default\u001b[39m(\u001b[38;5;28mself\u001b[39m, req, fp, code, msg, hdrs):\n\u001b[1;32m--> 639\u001b[0m     \u001b[38;5;28;01mraise\u001b[39;00m HTTPError(req\u001b[38;5;241m.\u001b[39mfull_url, code, msg, hdrs, fp)\n",
      "\u001b[1;31mHTTPError\u001b[0m: HTTP Error 400: Bad Request"
     ]
    }
   ],
   "source": [
    "#See https://buntinglabs.com/blog/download-openstreetmap-osm-data-into-geopandas\n",
    "import geopandas as gpd\n",
    "import urllib.request\n",
    "import matplotlib.pyplot as plt\n",
    "\n",
    "bbox = '-118.526344,33.969559,-118.375969,34.072284'\n",
    "tags = 'highway=primary'\n",
    "# Get a key here: https://buntinglabs.com/account/register\n",
    "api_key = 'YOUR_API_KEY_HERE'\n",
    "\n",
    "url = f\"https://osm.buntinglabs.com/v1/osm/extract?bbox={bbox}&tags={tags}&api_key={api_key}\"\n",
    "\n",
    "with urllib.request.urlopen(url) as response:\n",
    "    osm_data = response.read().decode()\n",
    "\n",
    "df = gpd.read_file(osm_data, driver='GeoJSON')\n",
    "\n",
    "df.plot()\n",
    "plt.show()"
   ]
  },
  {
   "cell_type": "code",
   "execution_count": null,
   "id": "e10e9b3d-cd3c-47f2-b330-0d788e175978",
   "metadata": {},
   "outputs": [],
   "source": []
  }
 ],
 "metadata": {
  "kernelspec": {
   "display_name": "Python [conda env:base] *",
   "language": "python",
   "name": "conda-base-py"
  },
  "language_info": {
   "codemirror_mode": {
    "name": "ipython",
    "version": 3
   },
   "file_extension": ".py",
   "mimetype": "text/x-python",
   "name": "python",
   "nbconvert_exporter": "python",
   "pygments_lexer": "ipython3",
   "version": "3.12.7"
  }
 },
 "nbformat": 4,
 "nbformat_minor": 5
}
