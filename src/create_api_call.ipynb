{
 "cells": [
  {
   "cell_type": "code",
   "execution_count": 72,
   "id": "99592c59-ac28-4801-b22c-16df6f0de8c9",
   "metadata": {},
   "outputs": [
    {
     "name": "stderr",
     "output_type": "stream",
     "text": [
      "[nltk_data] Downloading package wordnet to\n",
      "[nltk_data]     C:\\Users\\messa\\AppData\\Roaming\\nltk_data...\n",
      "[nltk_data]   Package wordnet is already up-to-date!\n"
     ]
    }
   ],
   "source": [
    "%run create_search_strings.ipynb\n",
    "%run set_up.py\n",
    "\n",
    "import pyalex #https://github.com/J535D165/pyalex\n",
    "from pyalex import config\n",
    "from pyalex import Works\n",
    "\n",
    "config.max_retries = 1\n",
    "pyalex.config.email = \"mathis.messager@mail.mcgill.ca\""
   ]
  },
  {
   "cell_type": "code",
   "execution_count": 73,
   "id": "7737d4df-02b7-4ced-b397-efd5019d0ce7",
   "metadata": {},
   "outputs": [],
   "source": [
    "search_terms_list = create_generic_search_terms()\n",
    "oalex_string_list = [create_search_string([terms], inflect=False) \n",
    "                     for terms in search_terms_list]\n",
    "post_oalex_filter_string = create_search_string(search_terms_list, inflect=True)"
   ]
  },
  {
   "cell_type": "code",
   "execution_count": 74,
   "id": "3f4d181d-ea17-4278-b4b5-26c4331e4fe1",
   "metadata": {},
   "outputs": [],
   "source": [
    "def extract_last_url_segment(url):\n",
    "    \"\"\"\n",
    "    Extracts the last segment of a URL path.  Handles various URL formats\n",
    "    and potential errors robustly.\n",
    "\n",
    "    Args:\n",
    "        url: The URL string.\n",
    "\n",
    "    Returns:\n",
    "        The last segment of the URL path, or None if the URL is invalid\n",
    "        or has no path.\n",
    "    \"\"\"\n",
    "    try:\n",
    "        parsed_url = urlparse(url)\n",
    "        path = parsed_url.path\n",
    "        if not path:\n",
    "            return None  # No path component\n",
    "\n",
    "        # Split the path by '/' and get the last element\n",
    "        segments = path.split('/')\n",
    "        return segments[-1]  # Handle cases with trailing slashes correctly\n",
    "\n",
    "    except Exception:  # Catch any parsing errors\n",
    "        return None\n",
    "\n",
    "def extract_concept_from_url_df(df, url_col, include_col=None):\n",
    "    \"\"\"\n",
    "    Extracts the last segment of URLs from a specific column in a DataFrame,\n",
    "    filtering by a boolean column, and adds the result as a new column.\n",
    "\n",
    "    Args:\n",
    "      df: The Pandas DataFrame.\n",
    "      url_col: The name of the column containing URLs (string).\n",
    "      include_col: The name of the boolean column to filter by (string).\n",
    "\n",
    "    Returns:\n",
    "        A new Pandas DataFrame with an additional column 'openalex_id_last_segment'\n",
    "        containing the extracted last segment, or None if the input is invalid.\n",
    "    \"\"\"\n",
    "    # Input validation: Check for required columns\n",
    "    required_columns = [url_col]\n",
    "    if include_col is not None:\n",
    "        required_columns.append(include_col)\n",
    "    if not all(col in df.columns for col in required_columns):\n",
    "        print(\"DataFrame is missing some columns.\")\n",
    "        return None\n",
    "\n",
    "    # Make a copy to avoid modifying the original DataFrame\n",
    "    df_copy = df.copy()\n",
    "\n",
    "    if include_col is not None:\n",
    "        # Convert 'Include?' (or whatever include_col is) to boolean, handling various representations.\n",
    "        df_copy[include_col] = df_copy[include_col].astype(str).str.lower().isin(['y', 'yes', 'true', '1', 't'])\n",
    "        # Apply the extraction function ONLY to rows where 'include_col' is True,\n",
    "        # and ONLY to the 'url_col' of those rows. Use .loc for proper indexing.\n",
    "        included_clist = df_copy.loc[df_copy[include_col], url_col].apply(extract_last_url_segment)\n",
    "    else:\n",
    "        included_clist = df_copy.loc[:, url_col].apply(extract_last_url_segment)\n",
    "\n",
    "    return included_clist.tolist()\n",
    "\n",
    "#Get open alex concepts to filter with\n",
    "concepts_toinclude_pd = pd.read_csv(\n",
    "    os.path.join(datdir, 'openalex_concepts_toinclude.csv'))\n",
    "concepts_toinclude_list =  extract_concept_from_url_df(\n",
    "    df = concepts_toinclude_pd,\n",
    "    url_col = 'openalex_id', \n",
    "    include_col = 'include')"
   ]
  },
  {
   "cell_type": "code",
   "execution_count": 75,
   "id": "435b5d24-3723-46bc-8eb2-e3886726baaa",
   "metadata": {},
   "outputs": [
    {
     "name": "stdout",
     "output_type": "stream",
     "text": [
      "https://api.openalex.org/works?search=%28%28%28%28%22hydroecologic%22%29+OR+%28%22ecohydrologically%22%29+OR+%28minimus%29+OR+%28acceptable%29+OR+%28%22ecohydrological%22%29+OR+%28restoration%29+OR+%28%22instream%22%29+OR+%28%22eco-hydrologic%22%29+OR+%28%22hydro+ecologic%22%29+OR+%28experimental%29+OR+%28%22hydro-ecological%22%29+OR+%28restorative%29+OR+%28%22hydro+ecological%22%29+OR+%28ecological%29+OR+%28%22hydroecological%22%29+OR+%28%22in-stream%22%29+OR+%28%22eco+hydrological%22%29+OR+%28%22eco+hydrologic%22%29+OR+%28minimum%29+OR+%28ecologically%29+OR+%28augmentation%29+OR+%28flush%29+OR+%28optimum%29+OR+%28%22eco+hydrologically%22%29+OR+%28augment%29+OR+%28%22hydro-ecologic%22%29+OR+%28%22hydro+ecologically%22%29+OR+%28minimal%29+OR+%28compensation%29+OR+%28%22ecohydrologic%22%29+OR+%28%22eco-hydrological%22%29+OR+%28%22hydroecologically%22%29+OR+%28%22in+stream%22%29+OR+%28ecologic%29+OR+%28%22hydro-ecologically%22%29+OR+%28maintenance%29+OR+%28environmental%29+OR+%28%22eco-hydrologically%22%29%29+AND+%28%28flood%29+OR+%28%22water-level%22%29+OR+%28discharge%29+OR+%28%22waterlevel%22%29+OR+%28%22water+level%22%29+OR+%28flow%29%29%29%29&filter=concept.id:c26271046%7Cc47768531%7Cc54355233%7Cc2522767166%7Cc107826830%7Cc524765639%7Cc505870484%7Cc70721500%7Cc78458016%7Cc105795698%7Cc114793014%7Cc21547014%7Cc87717796%7Cc88463610%7Cc18903297%7Cc62649853%7Cc126255220%7Cc526734887%7Cc6557445%7Cc175605778%7Cc147176958%7Cc539667460%7Cc110354214%7Cc199539241%7Cc136264566%7Cc100970517%7Cc148383697%7Cc187736073%7Cc201995342%7Cc459310%7Cc140793950%7Cc59822182%7Cc124101348%7Cc37621935%7Cc42475967%7Cc119857082%7Cc99454951%7Cc111368507%7Cc186060115%7Cc28826006%7Cc95124753%7Cc134560507%7Cc1965285%7Cc17409809%7Cc91375879&cursor=IlsxODQuODI5MDQsIDEzNTY5OTg0MDAwMDAsICdodHRwczovL29wZW5hbGV4Lm9yZy9XMjAxNDA2NTQzNiddIg%3D%3D&per-page=200\n"
     ]
    },
    {
     "data": {
      "text/plain": [
       "5000"
      ]
     },
     "execution_count": 75,
     "metadata": {},
     "output_type": "execute_result"
    }
   ],
   "source": [
    "#query = Works().search(f'{oalex_string[0:151]}))))') #WORKS\n",
    "query = Works().search(oalex_string_list[0]).filter(\n",
    "    concept={\"id\": '|'.join(concepts_toinclude_list)})\n",
    "\n",
    "#title_and_abstract.search\n",
    "\n",
    "#.filter(concept={\"id\": recomb(concepts_toinclude_list, recomb_sep='|')})\n",
    "record_list=[record for record in itertools.chain(\n",
    "    *query.paginate(per_page=200, n_max=5000)\n",
    ")]\n",
    "\n",
    "\n",
    "\n",
    "\n",
    "# #Serialize\n",
    "# #All results from PyAlex can be serialized. For example, save the results to a JSON file:\n",
    "# import json\n",
    "# from pathlib import Path\n",
    "# from pyalex import Work\n",
    "\n",
    "# with open(Path(\"works.json\"), \"w\") as f:\n",
    "#     json.dump(Works().get(), f)\n",
    "\n",
    "# # with open(Path(\"works.json\")) as f:\n",
    "# #     works = [Work(w) for w in json.load(f)]\n",
    "print(query.url)\n",
    "len(record_list)"
   ]
  },
  {
   "cell_type": "code",
   "execution_count": 67,
   "id": "8057e210-9610-49a0-abfc-12473bad6ae7",
   "metadata": {},
   "outputs": [
    {
     "data": {
      "text/plain": [
       "'The ecological limits of hydrologic alteration (ELOHA): a new framework for developing regional environmental flow standards'"
      ]
     },
     "execution_count": 67,
     "metadata": {},
     "output_type": "execute_result"
    }
   ],
   "source": [
    "record = record_list[0]\n",
    "record['title'], record['abstract']"
   ]
  },
  {
   "cell_type": "code",
   "execution_count": null,
   "id": "8d4e1159-6904-464f-9956-276c3523b1ec",
   "metadata": {},
   "outputs": [],
   "source": [
    "'''\n",
    "~~~~~ Search for works in OpenAlex based on search string ~~~~~~~~~~~~~~~~~~~~~~\n",
    "Reference info on the API: \n",
    "# https://docs.openalex.org/how-to-use-the-api/get-lists-of-entities/search-entities\n",
    "# https://docs.openalex.org/api-entities/works/search-works\n",
    "\n",
    "#EX: https://api.openalex.org/works?search=(elmo AND \"sesame street\") NOT (cookie OR monster)\n",
    "#Filter categories based on csv\n",
    "#do not lemmatize\n",
    "#&per-page=100&cursor=*\n",
    "\n",
    "#~~~~~~~~~~~~~~~~ PAGING ~~~~~~~~~~~~~~~~~~~~~~~~~~~~~~~~~~~~~~~~~~~~~~~~~~~~~~~\n",
    "Basic paging only works to get the first 10,000 results of any list. If you want to see more than 10,000 results, you'll need to use cursor paging.\n",
    "To use cursor paging, you request a cursor by adding the cursor=* parameter-value pair to your query.\n",
    "    Get a cursor in order to start cursor pagination:\n",
    "    https://api.openalex.org/works?filter=publication_year:2020&per-page=100&cursor=*\n",
    "The response to your query will include a next_cursor value in the response's meta object. Here's what it looks like:\n",
    "{\n",
    "  \"meta\": {\n",
    "    \"count\": 8695857,\n",
    "    \"db_response_time_ms\": 28,\n",
    "    \"page\": null,\n",
    "    \"per_page\": 100,\n",
    "    \"next_cursor\": \"IlsxNjA5MzcyODAwMDAwLCAnaHR0cHM6Ly9vcGVuYWxleC5vcmcvVzI0ODg0OTk3NjQnXSI=\"\n",
    "  },\n",
    "  \"results\" : [\n",
    "    // the first page of results\n",
    "  ]\n",
    "}\n",
    "\n",
    "To retrieve the next page of results, copy the meta.next_cursor value into the cursor field of your next request.\n",
    "\n",
    "    Get the next page of results using a cursor value:\n",
    "    https://api.openalex.org/works?filter=publication_year:2020&per-page=100&cursor=IlsxNjA5MzcyODAwMDAwLCAnaHR0cHM6Ly9vcGVuYWxleC5vcmcvVzI0ODg0OTk3NjQnXSI=\n",
    "\n",
    "To get all the results, keep repeating this process until meta.next_cursor is null and the results set is empty.\n",
    "'''\n",
    "\n",
    "#\n",
    "\n",
    "\n",
    "\n",
    "def searching(query_string, broad='no', has_ngrams='true', \n",
    "              does_date_matter='no', from_date='1976-01-01'):\n",
    "    if broad == 'no':\n",
    "        if does_date_matter == 'yes':\n",
    "            institution = requests.get(\n",
    "                f'https://api.openalex.org/works?filter=abstract.search:{query_string},\\\n",
    "                has_ngrams:{has_ngrams},from_publication_date:{from_date},to_publication_date:{to_date}&page=1&per-page=20'\n",
    "            ).json()\n",
    "        else:\n",
    "            institution = requests.get(\n",
    "                f'https://api.openalex.org/works?filter=title.search:{query_string},\\\n",
    "                has_ngrams:{has_ngrams},&page=1&per-page=20'\n",
    "            ).json()\n",
    "    elif broad == 'yes':\n",
    "        institution = requests.get(\n",
    "            f'https://api.openalex.org/works?search={query_string}&page=1&per-page=20'\n",
    "        ).json()\n",
    "    return institution"
   ]
  }
 ],
 "metadata": {
  "kernelspec": {
   "display_name": "Python 3 (ipykernel)",
   "language": "python",
   "name": "python3"
  },
  "language_info": {
   "codemirror_mode": {
    "name": "ipython",
    "version": 3
   },
   "file_extension": ".py",
   "mimetype": "text/x-python",
   "name": "python",
   "nbconvert_exporter": "python",
   "pygments_lexer": "ipython3",
   "version": "3.12.3"
  }
 },
 "nbformat": 4,
 "nbformat_minor": 5
}
