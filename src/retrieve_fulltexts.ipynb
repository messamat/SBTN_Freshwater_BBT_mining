{
 "cells": [
  {
   "cell_type": "code",
   "execution_count": 105,
   "id": "96e2c083-0d7e-4a23-9d2b-f4c3af4e6b5e",
   "metadata": {},
   "outputs": [],
   "source": [
    "%run set_up.py\n",
    "%run lit_utility_functions_2025.ipynb\n",
    "\n",
    "import rispy"
   ]
  },
  {
   "cell_type": "code",
   "execution_count": 139,
   "id": "70feb3e0-4811-4e8e-8620-68bf75e063e2",
   "metadata": {},
   "outputs": [],
   "source": [
    "#Import openalex records\n",
    "oalex_records_pkl = regex_list_files(in_dir=resdir, \n",
    "                       in_pattern='oalex_records_.*[.]pkl'\n",
    "                      )[-1]\n",
    "with open(oalex_records_pkl, 'rb') as f:\n",
    "    oalex_records_dict = pickle.load(f)\n",
    "\n",
    "#Import RIS of selected sources\n",
    "oalex_records_dict = {x['doi']:x for v in oalex_records_dict.values() for x in v}"
   ]
  },
  {
   "cell_type": "code",
   "execution_count": 135,
   "id": "536b406f-bebb-45af-bc21-3aea0acd9e19",
   "metadata": {},
   "outputs": [
    {
     "name": "stdout",
     "output_type": "stream",
     "text": [
      "Writing out D:\\WWF_SBTN\\BTT_analysis\\results\\oalex_records_ris_202503221902.ris\n"
     ]
    }
   ],
   "source": [
    "#Export to RIS to create a test sample\n",
    "oalex_records_ris_path = os.path.join(\n",
    "        resdir, \n",
    "        f\"oalex_records_ris_{datetime.now(UTC).strftime('%Y%m%d%H%M')}.ris\"\n",
    "    )\n",
    "print(f'Writing out {oalex_records_ris_path}')\n",
    "export_oalex_works_to_ris(\n",
    "    works=list(oalex_records_list.values()),\n",
    "    filename=oalex_records_ris_path\n",
    ")"
   ]
  },
  {
   "cell_type": "code",
   "execution_count": 137,
   "id": "839fb850-1a32-40bb-9453-6d3c27bf07a5",
   "metadata": {},
   "outputs": [],
   "source": [
    "#Read test sample\n",
    "with open(oalex_records_ris_path, 'r', encoding='utf-8') as ris_file:\n",
    "    entries = rispy.load(ris_file)\n",
    "    oalex_records_to_get_pd = pd.DataFrame.from_dict(entries)\n",
    "oalex_records_sample = oalex_records_to_get_pd.sample(n=200, random_state=1)"
   ]
  },
  {
   "cell_type": "code",
   "execution_count": 164,
   "id": "2f5f6c43-c38f-4fa1-911d-1e7c13663fa1",
   "metadata": {},
   "outputs": [
    {
     "name": "stdout",
     "output_type": "stream",
     "text": [
      "                                                 doi  is_oa  \\\n",
      "0    https://doi.org/10.1016/j.scitotenv.2022.155143   True   \n",
      "1        https://doi.org/10.3390/diagnostics12082014   True   \n",
      "2          https://doi.org/10.1080/02508060508691879  False   \n",
      "3                https://doi.org/10.1306/09030808054  False   \n",
      "4           https://doi.org/10.1787/9789264229631-en  False   \n",
      "..                                               ...    ...   \n",
      "195           https://doi.org/10.5194/jm-42-257-2023   True   \n",
      "196            https://doi.org/10.2489/jswc.65.5.304   True   \n",
      "197           https://doi.org/10.5194/bg-12-921-2015   True   \n",
      "198         https://doi.org/10.5194/hess-15-471-2011   True   \n",
      "199                    https://doi.org/10.35256/ic76   True   \n",
      "\n",
      "                                    landing_page_url  \\\n",
      "0    https://doi.org/10.1016/j.scitotenv.2022.155143   \n",
      "1        https://doi.org/10.3390/diagnostics12082014   \n",
      "2          https://doi.org/10.1080/02508060508691879   \n",
      "3                https://doi.org/10.1306/09030808054   \n",
      "4           https://doi.org/10.1787/9789264229631-en   \n",
      "..                                               ...   \n",
      "195           https://doi.org/10.5194/jm-42-257-2023   \n",
      "196            https://doi.org/10.2489/jswc.65.5.304   \n",
      "197           https://doi.org/10.5194/bg-12-921-2015   \n",
      "198         https://doi.org/10.5194/hess-15-471-2011   \n",
      "199                    https://doi.org/10.35256/ic76   \n",
      "\n",
      "                                               pdf_url  \n",
      "0                                                 None  \n",
      "1    https://www.mdpi.com/2075-4418/12/8/2014/pdf?v...  \n",
      "2                                                 None  \n",
      "3                                                 None  \n",
      "4                                                 None  \n",
      "..                                                 ...  \n",
      "195  https://jm.copernicus.org/articles/42/257/2023...  \n",
      "196  https://www.jswconline.org/content/jswc/65/5/3...  \n",
      "197  https://bg.copernicus.org/articles/12/921/2015...  \n",
      "198  https://hess.copernicus.org/articles/15/471/20...  \n",
      "199  http://publicfiles.dep.state.fl.us/FGS/FGS_Pub...  \n",
      "\n",
      "[200 rows x 4 columns]\n"
     ]
    }
   ],
   "source": [
    "#Try to retrieve urls and pdf_urls for samples\n",
    "oalex_loc_dict_list = []\n",
    "for doi_stub in oalex_records_sample.doi.values.tolist():\n",
    "    full_doi = f'https://doi.org/{doi_stub}'\n",
    "    temp_dict = oalex_records_dict[full_doi]['primary_location']\n",
    "    temp_dict['doi'] = full_doi\n",
    "    oalex_loc_dict_list.append(temp_dict)\n",
    "\n",
    "oalex_records_loc_pd = list_of_dicts_to_dataframe(\n",
    "    list_of_dicts=oalex_loc_dict_list,\n",
    "    keys_to_keep=['doi','is_oa','landing_page_url','pdf_url']\n",
    ")\n",
    "print(oalex_records_loc_pd)\n",
    "\n",
    "    \n"
   ]
  },
  {
   "cell_type": "code",
   "execution_count": null,
   "id": "747ee722-109c-40b6-b756-774c0cc8f621",
   "metadata": {},
   "outputs": [],
   "source": []
  }
 ],
 "metadata": {
  "kernelspec": {
   "display_name": "Python 3 (ipykernel)",
   "language": "python",
   "name": "python3"
  },
  "language_info": {
   "codemirror_mode": {
    "name": "ipython",
    "version": 3
   },
   "file_extension": ".py",
   "mimetype": "text/x-python",
   "name": "python",
   "nbconvert_exporter": "python",
   "pygments_lexer": "ipython3",
   "version": "3.12.3"
  }
 },
 "nbformat": 4,
 "nbformat_minor": 5
}
