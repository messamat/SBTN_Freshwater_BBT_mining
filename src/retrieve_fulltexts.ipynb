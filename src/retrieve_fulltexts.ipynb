{
 "cells": [
  {
   "cell_type": "code",
   "execution_count": 221,
   "id": "96e2c083-0d7e-4a23-9d2b-f4c3af4e6b5e",
   "metadata": {},
   "outputs": [],
   "source": [
    "%run set_up.py\n",
    "%run lit_utility_functions_2025.ipynb\n",
    "\n",
    "import rispy\n",
    "import unicodedata\n",
    "import logging"
   ]
  },
  {
   "cell_type": "code",
   "execution_count": 139,
   "id": "70feb3e0-4811-4e8e-8620-68bf75e063e2",
   "metadata": {},
   "outputs": [],
   "source": [
    "#Import openalex records\n",
    "oalex_records_pkl = regex_list_files(in_dir=resdir, \n",
    "                       in_pattern='oalex_records_.*[.]pkl'\n",
    "                      )[-1]\n",
    "with open(oalex_records_pkl, 'rb') as f:\n",
    "    oalex_records_dict = pickle.load(f)\n",
    "\n",
    "#Import RIS of selected sources\n",
    "oalex_records_dict = {x['doi']:x for v in oalex_records_dict.values() for x in v}"
   ]
  },
  {
   "cell_type": "code",
   "execution_count": 135,
   "id": "536b406f-bebb-45af-bc21-3aea0acd9e19",
   "metadata": {},
   "outputs": [
    {
     "name": "stdout",
     "output_type": "stream",
     "text": [
      "Writing out D:\\WWF_SBTN\\BTT_analysis\\results\\oalex_records_ris_202503221902.ris\n"
     ]
    }
   ],
   "source": [
    "#Export to RIS to create a test sample\n",
    "oalex_records_ris_path = os.path.join(\n",
    "        resdir, \n",
    "        f\"oalex_records_ris_{datetime.now(UTC).strftime('%Y%m%d%H%M')}.ris\"\n",
    "    )\n",
    "print(f'Writing out {oalex_records_ris_path}')\n",
    "export_oalex_works_to_ris(\n",
    "    works=list(oalex_records_list.values()),\n",
    "    filename=oalex_records_ris_path\n",
    ")"
   ]
  },
  {
   "cell_type": "code",
   "execution_count": 137,
   "id": "839fb850-1a32-40bb-9453-6d3c27bf07a5",
   "metadata": {},
   "outputs": [],
   "source": [
    "#Read test sample\n",
    "with open(oalex_records_ris_path, 'r', encoding='utf-8') as ris_file:\n",
    "    entries = rispy.load(ris_file)\n",
    "    oalex_records_to_get_pd = pd.DataFrame.from_dict(entries)\n",
    "oalex_records_sample = oalex_records_to_get_pd.sample(n=200, random_state=1)"
   ]
  },
  {
   "cell_type": "code",
   "execution_count": null,
   "id": "2f5f6c43-c38f-4fa1-911d-1e7c13663fa1",
   "metadata": {},
   "outputs": [],
   "source": [
    "#Try to retrieve urls and pdf_urls for samples\n",
    "def get_oalex_fulltext_info(oalex_sample_ris_pd, oalex_fullrecords_dict):\n",
    "    oalex_loc_dict_list = []\n",
    "\n",
    "    for doi_stub in oalex_sample_ris_pd.doi.values.tolist():\n",
    "        full_doi = f'https://doi.org/{doi_stub}'\n",
    "        temp_dict = oalex_fullrecords_dict[full_doi]['primary_location']\n",
    "        temp_dict['doi'] = doi_stub\n",
    "        oalex_loc_dict_list.append(temp_dict)\n",
    "\n",
    "    oalex_records_loc_pd = list_of_dicts_to_dataframe(\n",
    "        list_of_dicts=oalex_loc_dict_list,\n",
    "        keys_to_keep=['doi','is_oa','landing_page_url','pdf_url']\n",
    "    )\n",
    "\n",
    "    out_pd = oalex_sample_ris_pd.merge(oalex_records_loc_pd, on='doi')\n",
    "    \n",
    "    return(out_pd)\n",
    "\n",
    "oalex_fulltext_info_pd = get_oalex_fulltext_info(\n",
    "    oalex_sample_ris_pd=oalex_records_sample, \n",
    "    oalex_fullrecords_dict=oalex_records_dict\n",
    ")\n",
    "\n",
    "#print(oalex_fulltext_info_pd)"
   ]
  },
  {
   "cell_type": "code",
   "execution_count": 213,
   "id": "8b9bba68-5829-4ba2-9c43-f800ff862ca9",
   "metadata": {},
   "outputs": [
    {
     "name": "stdout",
     "output_type": "stream",
     "text": [
      "True\n"
     ]
    }
   ],
   "source": [
    "print(pd.isna(oalex_fulltext_info_pd.iloc[4,:].authors))"
   ]
  },
  {
   "cell_type": "code",
   "execution_count": 215,
   "id": "daaf21c0-32af-4af8-87c9-c2e9d586124e",
   "metadata": {},
   "outputs": [],
   "source": [
    "# Function to download and rename PDFs\n",
    "def _sanitize_filename(filename: str) -> str:\n",
    "    \"\"\"Sanitizes a filename by removing invalid characters and normalizing spaces.\n",
    "\n",
    "    Args:\n",
    "        filename: The filename to sanitize.\n",
    "\n",
    "    Returns:\n",
    "        The sanitized filename.\n",
    "    \"\"\"\n",
    "    # Normalize unicode characters to closest ASCII equivalent (handle accents, etc.)\n",
    "    filename = unicodedata.normalize('NFKD', filename).encode('ascii', 'ignore').decode('ascii')\n",
    "\n",
    "    # Replace spaces and slashes with underscores\n",
    "    filename = filename.replace(' ', '_').replace('/', '_')\n",
    "\n",
    "    # Remove invalid characters using a regular expression\n",
    "    filename = re.sub(r'[\\\\:*?\"<>|]', '', filename)\n",
    "\n",
    "    # Remove any leading/trailing underscores or periods (clean-up)\n",
    "    filename = filename.strip('_').strip('.')\n",
    "\n",
    "     # Truncate filename to avoid OS errors (255 is a common limit).  Keep extension.\n",
    "    if len(filename) > 250:  # Leave room for \".pdf\"\n",
    "        name, ext = os.path.splitext(filename)\n",
    "        filename = name[:246] + ext #246+4 = 250\n",
    "\n",
    "    return filename\n",
    "\n",
    "def _format_ris_authors(authors: Union[List[str], str, float, None]) -> str:\n",
    "    \"\"\"Formats author names for the filename.  Handles None/NaN and lists.\n",
    "\n",
    "    Args:\n",
    "      authors:  A string, list of strings, NaN, or None representing authors.\n",
    "\n",
    "    Returns:\n",
    "      A formatted author string.\n",
    "    \"\"\"\n",
    "    \n",
    "    if isinstance(authors, str):  # Handle case where it's already a single string\n",
    "        return authors\n",
    "    elif isinstance(authors, list):\n",
    "        if len(authors) > 1:\n",
    "            return f\"{authors[0]} et al.\"\n",
    "        elif authors: # Check for empty list\n",
    "             return authors[0]\n",
    "        else:\n",
    "            return \"noauthor\" # empty list\n",
    "    elif (authors is None) or (pd.isna(authors)):\n",
    "        return \"noauthor\"\n",
    "    else:\n",
    "        return \"noauthor\" # Catch-all for other unexpected types"
   ]
  },
  {
   "cell_type": "code",
   "execution_count": 223,
   "id": "a2319c8f-789a-4903-8701-18f73ec8f5f6",
   "metadata": {},
   "outputs": [],
   "source": [
    "def download_and_rename_pdfs(\n",
    "    df: pd.DataFrame, out_dir: str, timeout: int = 10, verbose: bool = True\n",
    ") -> None:\n",
    "    \"\"\"\n",
    "    Downloads and renames PDFs based on information in a Pandas DataFrame.\n",
    "\n",
    "    Args:\n",
    "        df: DataFrame with 'pdf_url', 'authors', 'year', 'secondary_title', and 'title' columns.\n",
    "        out_dir: Output directory to save PDFs.\n",
    "        timeout: Timeout in seconds for the requests.get() call.\n",
    "        verbose: If True, print progress messages.\n",
    "\n",
    "    Raises:\n",
    "        TypeError: If `df` is not a Pandas DataFrame or `out_dir` is not a string.\n",
    "        ValueError: if input dataframe is empty or has missing required columns\n",
    "    \"\"\"\n",
    "\n",
    "    if not isinstance(df, pd.DataFrame):\n",
    "        raise TypeError(\"df must be a Pandas DataFrame\")\n",
    "    if not isinstance(out_dir, str):\n",
    "        raise TypeError(\"out_dir must be a string\")\n",
    "    if not isinstance(timeout, int) or timeout <= 0:\n",
    "        raise TypeError(\"timeout must be a positive integer.\")\n",
    "    if not isinstance(verbose, bool):\n",
    "        raise TypeError(\"verbose must be a boolean.\")\n",
    "\n",
    "    if df.empty:\n",
    "        raise ValueError(\"Input DataFrame is empty.\")\n",
    "\n",
    "    required_columns = ['pdf_url', 'authors', 'year', 'secondary_title', 'title']\n",
    "    if not all(col in df.columns for col in required_columns):\n",
    "        raise ValueError(f\"DataFrame must contain columns: {required_columns}\")\n",
    "\n",
    "    # Create directory if it doesn't exist. exist_ok=True prevents errors if it already exists.\n",
    "    os.makedirs(out_dir, exist_ok=True)  \n",
    "\n",
    "    for index, row in df.iterrows():\n",
    "        pdf_url = row['pdf_url']\n",
    "        authors = row['authors']\n",
    "        year = row['year']\n",
    "        source = row['secondary_title']\n",
    "        title = row['title']\n",
    "\n",
    "        author_formatted = _format_ris_authors(authors)\n",
    "        filename = f\"{author_formatted}-{year}-{source}-{title}.pdf\"\n",
    "        filename = _sanitize_filename(filename)  # Sanitize the filename\n",
    "\n",
    "        pdf_path = os.path.join(out_dir, filename)\n",
    "\n",
    "        if pdf_url and not pd.isna(pdf_url):  # Check for valid and non-null URL\n",
    "            if not os.path.exists(pdf_path):\n",
    "                try:\n",
    "                    response = requests.get(pdf_url, \n",
    "                                            timeout=timeout,\n",
    "                                            allow_redirects=True) #added allow_redirects\n",
    "                    response.raise_for_status()  # Raise HTTPError for bad responses (4xx or 5xx)\n",
    "\n",
    "                    with open(pdf_path, 'wb') as pdf_file:\n",
    "                        pdf_file.write(response.content)\n",
    "\n",
    "                    # if verbose:\n",
    "                    #     logging.info(f\"Downloaded and saved: {pdf_path}\")\n",
    "\n",
    "                except requests.exceptions.RequestException as e:\n",
    "                    logging.error(f\"Error downloading {pdf_url}: {e}\")\n",
    "                except (IOError, OSError) as e:\n",
    "                    logging.error(f\"Error saving file {pdf_path}: {e}\")\n",
    "            elif verbose: #if file exist\n",
    "                logging.info(f'File already exists, skipping download: {pdf_path}')\n",
    "        # elif verbose:\n",
    "        #     logging.warning(f\"No PDF URL for: {filename}\")\n"
   ]
  },
  {
   "cell_type": "code",
   "execution_count": null,
   "id": "1f11546a-dba1-4c8f-9b40-c2c0c12f0d30",
   "metadata": {},
   "outputs": [
    {
     "name": "stderr",
     "output_type": "stream",
     "text": [
      "WARNING:root:No PDF URL for: Talbot,_Rebecca_et_al._-_2022_-_The_Science_of_The_Total_Environment_-_Spatial_and_temporal_variations_of_microplastic_concentrations_in_Portland's_freshwater_ecosystems.pdf\n",
      "WARNING:root:No PDF URL for: Khangaonkar,_Tarang_et_al._-_2005_-_Water_International_-_Modeling_Hydrothermal_Response_of_a_Reservoir_to_Modifications_at_a_High-Head_Dam.pdf\n",
      "WARNING:root:No PDF URL for: Xu,_Chunming_et_al._-_2008_-_AAPG_Bulletin_-_Middle_Atokan_sediment_gravity_flows_in_the_Red_Oak_field,_Arkoma_Basin,_Oklahoma_A_sedimentary_analysis_using_electrical_borehole_images_and_wireline_logs.pdf\n",
      "WARNING:root:No PDF URL for: noauthor_-_2015_-_OECD_studies_on_water_-_Water_Resources_Allocation.pdf\n",
      "WARNING:root:No PDF URL for: Wang,_XiaoJun_et_al._-_2014_-_Mitigation_and_Adaptation_Strategies_for_Global_Change_-_Adaptation_to_climate_change_impacts_on_water_demand.pdf\n",
      "WARNING:root:No PDF URL for: Jones,_Christopher_et_al._-_2016_-_Journal_of_Environmental_Quality_-_Use_Alkalinity_Monitoring_to_Optimize_Bioreactor_Performance.pdf\n",
      "WARNING:root:No PDF URL for: Huong,_H._et_al._-_2011_-_nan_-_Urbanization_and_climate_change_impacts_on_future_urban_flood_risk_in_Can_Tho_city,_Vietnam.pdf\n",
      "WARNING:root:No PDF URL for: Jones,_Christopher_et_al._-_2017_-_JAWRA_Journal_of_the_American_Water_Resources_Association_-_Iowa_Statewide_Stream_Nitrate_Load_Calculated_Using_In_Situ_Sensor_Network.pdf\n",
      "WARNING:root:No PDF URL for: Frissell,_Christopher_et_al._-_1992_-_North_American_Journal_of_Fisheries_Management_-_Incidence_and_Causes_of_Physical_Failure_of_Artificial_Habitat_Structures_in_Streams_of_Western_Oregon_and_Washington.pdf\n",
      "WARNING:root:No PDF URL for: Marsh,_Philip_et_al._-_2008_-_Hydrological_Processes_-_Changes_in_thaw_lake_drainage_in_the_Western_Canadian_Arctic_from_1950_to_2000.pdf\n",
      "WARNING:root:No PDF URL for: Catalano,_M._et_al._-_2015_-_The_American_Midland_Naturalist_-_Influence_of_Environmental_Variables_on_Catostomid_Spawning_Phenology_in_a_Warmwater_River.pdf\n",
      "ERROR:root:Error downloading https://onlinelibrary.wiley.com/doi/pdfdirect/10.1111/j.1752-1688.2010.00467.x: 403 Client Error: Forbidden for url: https://onlinelibrary.wiley.com/doi/pdfdirect/10.1111/j.1752-1688.2010.00467.x\n",
      "ERROR:root:Error downloading https://www.sciencedirect.com/science/article/am/pii/S1462901116303550: 403 Client Error: Forbidden for url: https://www.sciencedirect.com/science/article/am/pii/S1462901116303550\n",
      "WARNING:root:No PDF URL for: Wolman,_M._et_al._-_1978_-_Earth_Surface_Processes_-_Relative_scales_of_time_and_effectiveness_of_climate_in_watershed_geomorphology.pdf\n",
      "ERROR:root:Error saving file D:\\WWF_SBTN\\BTT_analysis\\results\\oalex_records_202503221902\\Hodges,_Mary_et_al._-_2015_-_Scientific_investigations_report_-_New_argon-argon_(&lt;sup&gt;40&lt;_sup&gt;Ar_&lt;sup&gt;39&lt;_sup&gt;Ar)_radiometric_age_dates_from_selected_subsurface_basalt_flows_at_the_Idaho_National_Laboratory,_Idaho.pdf: [Errno 2] No such file or directory: 'D:\\\\WWF_SBTN\\\\BTT_analysis\\\\results\\\\oalex_records_202503221902\\\\Hodges,_Mary_et_al._-_2015_-_Scientific_investigations_report_-_New_argon-argon_(&lt;sup&gt;40&lt;_sup&gt;Ar_&lt;sup&gt;39&lt;_sup&gt;Ar)_radiometric_age_dates_from_selected_subsurface_basalt_flows_at_the_Idaho_National_Laboratory,_Idaho.pdf'\n",
      "WARNING:root:No PDF URL for: Scoates,_James_et_al._-_2024_-_Lithos_-_The_Muskox_intrusion_Overview_of_a_major_open-system_layered_intrusion_and_its_role_as_a_sub-volcanic_magma_reservoir_in_the_Mackenzie_large_igneous_province.pdf\n",
      "WARNING:root:No PDF URL for: Labbe,_Theodore_et_al._-_2000_-_Ecological_Applications_-_Dynamics_of_Intermittent_Stream_Habitat_Regulate_Persistence_of_a_Threatened_Fish_at_Multiple_Scales.pdf\n",
      "ERROR:root:Error downloading https://onlinelibrary.wiley.com/doi/pdfdirect/10.1029/2002WR001571: 403 Client Error: Forbidden for url: https://onlinelibrary.wiley.com/doi/pdfdirect/10.1029/2002WR001571\n",
      "WARNING:root:No PDF URL for: Butcher,_Jonathan_et_al._-_2010_-_nan_-_Nationwide_Watershed_Modeling_to_Evaluate_Potential_Impacts_of_Climate_and_Land_Use_Change_on_Hydrology_and_Water_Quality.pdf\n",
      "WARNING:root:No PDF URL for: Yang,_YiChen_et_al._-_2011_-_Journal_of_Water_Resources_Planning_and_Management_-_Decentralized_Optimization_Method_for_Water_Allocation_Management_in_the_Yellow_River_Basin.pdf\n",
      "WARNING:root:No PDF URL for: Peterson,_James_et_al._-_2014_-_River_Research_and_Applications_-_An_Evaluation_of_the_Relations_Between_Flow_Regime_Components,_Stream_Characteristics,_Species_Traits,_and_MetaDemographic_Rates_of_WarmWaterStream_Fishes_Implications_for_Aquatic_.pdf\n",
      "WARNING:root:No PDF URL for: McQuarrie,_Nadine_et_al._-_1998_-_Tectonics_-_Subsidence_of_a_volcanic_basin_by_flexure_and_lower_crustal_flow_The_eastern_Snake_River_Plain,_Idaho.pdf\n",
      "WARNING:root:No PDF URL for: Dalton,_Melinda_et_al._-_2004_-_Scientific_investigations_report_-_Ground-water_and_surface-water_flow_and_estimated_water_budget_for_Lake_Seminole,_southwestern_Georgia_and_northwestern_Florida.pdf\n",
      "WARNING:root:No PDF URL for: Maughn,_A._et_al._-_2009_-_Pipelines_2017_-_Planning_A_Sanitary_Sewer_Trunk_Line_While_Trying_to_Protect_a_Forest_Preserve.pdf\n",
      "ERROR:root:Error downloading https://lib.dr.iastate.edu/cgi/viewcontent.cgi?article=20118&context=rtd: 403 Client Error: Forbidden for url: https://dr.lib.iastate.edu/cgi/viewcontent.cgi?article=20118&context=rtd\n",
      "WARNING:root:No PDF URL for: Holecek,_Dean_et_al._-_2009_-_Transactions_of_the_American_Fisheries_Society_-_Juvenile_Chinook_Salmon_Summer_Microhabitat_Availability,_Use,_and_Selection_in_a_Central_Idaho_Wilderness_Stream.pdf\n",
      "WARNING:root:No PDF URL for: Newton,_Teresa_et_al._-_2013_-_Journal_of_Shellfish_Research_-_Profiles_of_Biochemical_Tracers_in_Unionid_Mussels_Across_a_Broad_Geographical_Range.pdf\n",
      "WARNING:root:No PDF URL for: Knapp,_Suzanne_et_al._-_2002_-_nan_-_Evaluation_of_Juvenile_Salmonid_Outmigration_and_Survival_in_the_Lower_Umatilla_River_Basin,_Annual_Report_1999-2000..pdf\n",
      "WARNING:root:No PDF URL for: Mosepele,_Ketlhatlogile_et_al._-_2009_-_BioScience_-_Fish,_Floods,_and_Ecosystem_Engineers_Aquatic_Conservation_in_the_Okavango_Delta,_Botswana.pdf\n",
      "WARNING:root:No PDF URL for: Wang,_Xiaoyan_et_al._-_2018_-_Environmental_Earth_Sciences_-_Impacts_of_climate_change_on_flow_regime_and_sequential_threats_to_riverine_ecosystem_in_the_source_region_of_the_Yellow_River.pdf\n",
      "ERROR:root:Error downloading https://onlinelibrary.wiley.com/doi/pdfdirect/10.1029/2012JC008263: 403 Client Error: Forbidden for url: https://onlinelibrary.wiley.com/doi/pdfdirect/10.1029/2012JC008263\n",
      "WARNING:root:No PDF URL for: Nyman,_Petter_et_al._-_2019_-_Earth_Surface_Processes_and_Landforms_-_Debrisflowdominated_sediment_transport_through_a_channel_network_after_wildfire.pdf\n",
      "WARNING:root:No PDF URL for: Qi,_Qilin_et_al._-_2012_-_nan_-_An_efficient_water-filling_algorithm_for_power_allocation_in_OFDM-based_cognitive_radio_systems.pdf\n",
      "ERROR:root:Error downloading https://iwaponline.com/wp/article-pdf/19/2/358/403419/019020358.pdf: 403 Client Error: Forbidden for url: https://iwaponline.com/wp/article-pdf/19/2/358/403419/019020358.pdf\n",
      "WARNING:root:No PDF URL for: Stammel,_Barbara_et_al._-_2021_-_International_Review_of_Hydrobiology_-_Are_natural_floods_accelerators_for_streambank_vegetation_development_in_floodplain_restoration.pdf\n",
      "ERROR:root:Error saving file D:\\WWF_SBTN\\BTT_analysis\\results\\oalex_records_202503221902\\Christensen,_Victoria_et_al._-_2014_-_Scientific_investigations_report_-_Assessment_of_conservation_easements,_total_phosphorus,_and_total_suspended_solids_in_West_Fork_Beaver_Creek,_Minnesota,_1999-2012.pdf: [Errno 2] No such file or directory: 'D:\\\\WWF_SBTN\\\\BTT_analysis\\\\results\\\\oalex_records_202503221902\\\\Christensen,_Victoria_et_al._-_2014_-_Scientific_investigations_report_-_Assessment_of_conservation_easements,_total_phosphorus,_and_total_suspended_solids_in_West_Fork_Beaver_Creek,_Minnesota,_1999-2012.pdf'\n",
      "WARNING:root:No PDF URL for: Lung,_WuSeng_-_1996_-_Journal_of_Environmental_Engineering_-_Postaudit_of_Upper_Mississippi_River_BOD_DO_Model.pdf\n",
      "WARNING:root:No PDF URL for: Pei,_Tingting_et_al._-_2016_-_Journal_of_Geophysical_Research_Biogeosciences_-_Seasonal_divergence_in_the_sensitivity_of_evapotranspiration_to_climate_and_vegetation_growth_in_the_Yellow_River_Basin,_China.pdf\n",
      "WARNING:root:No PDF URL for: Jha,_Manoj_et_al._-_2010_-_Journal_of_Environmental_Quality_-_Assessment_of_Total_Maximum_Daily_Load_Implementation_Strategies_for_Nitrate_Impairment_of_the_Raccoon_River,_Iowa.pdf\n",
      "ERROR:root:Error saving file D:\\WWF_SBTN\\BTT_analysis\\results\\oalex_records_202503221902\\Garrett,_Jessica_-_2012_-_Scientific_investigations_report_-_Concentrations,_loads,_and_yields_of_select_constituents_from_major_tributaries_of_the_Mississippi_and_Missouri_Rivers_in_Iowa,_water_years_2004-2008.pdf: [Errno 2] No such file or directory: 'D:\\\\WWF_SBTN\\\\BTT_analysis\\\\results\\\\oalex_records_202503221902\\\\Garrett,_Jessica_-_2012_-_Scientific_investigations_report_-_Concentrations,_loads,_and_yields_of_select_constituents_from_major_tributaries_of_the_Mississippi_and_Missouri_Rivers_in_Iowa,_water_years_2004-2008.pdf'\n",
      "WARNING:root:No PDF URL for: Wang,_Kuifeng_-_2019_-_Chinese_Geographical_Science_-_Evolution_of_Yellow_River_Delta_Coastline_Based_on_Remote_Sensing_from_1976_to_2014,_China.pdf\n",
      "WARNING:root:No PDF URL for: Billman,_Eric_et_al._-_2008_-_North_American_Journal_of_Aquaculture_-_Reproductive_Ecology_and_Spawning_Substrate_Preference_of_the_Northern_Leatherside_Chub.pdf\n",
      "WARNING:root:No PDF URL for: Aboelnour,_Mohamed_et_al._-_2019_-_nan_-_A_Comparison_of_Streamflow_and_Baseflow_Responses_to_Land-Use_and_Climate_Change_Using_SWAT.pdf\n",
      "WARNING:root:No PDF URL for: Wu,_Baosheng_et_al._-_2005_-_Journal_of_Hydraulic_Engineering_-_Case_Study_River_Training_and_Its_Effects_on_Fluvial_Processes_in_the_Lower_Yellow_River,_China.pdf\n",
      "WARNING:root:No PDF URL for: Schilling,_Keith_et_al._-_2006_-_Journal_of_Environmental_Quality_-_Effects_of_WatershedScale_Land_Use_Change_on_Stream_Nitrate_Concentrations.pdf\n",
      "WARNING:root:No PDF URL for: Beaulieu,_Marieke_et_al._-_2012_-_Hydrological_Processes_-_A_shifting_hydrological_regime_a_field_investigation_of_snowmelt_runoff_processes_and_their_connection_to_summer_base_flow,_Sunshine_Coast,_British_Columbia.pdf\n",
      "WARNING:root:No PDF URL for: Cheng,_Joseph_et_al._-_2011_-_Economic_and_Industrial_Democracy_-_Multinational_corporations,_global_civil_society_and_Chinese_labour_Workers_solidarity_in_China_in_the_era_of_globalization.pdf\n",
      "ERROR:root:Error saving file D:\\WWF_SBTN\\BTT_analysis\\results\\oalex_records_202503221902\\Bartholomay,_Roy_et_al._-_2015_-_Scientific_investigations_report_-_Hydrologic_influences_on_water-level_changes_in_the_Eastern_Snake_River_Plain_aquifer_at_and_near_the_Idaho_National_Laboratory,_Idaho,_1949-2014.pdf: [Errno 2] No such file or directory: 'D:\\\\WWF_SBTN\\\\BTT_analysis\\\\results\\\\oalex_records_202503221902\\\\Bartholomay,_Roy_et_al._-_2015_-_Scientific_investigations_report_-_Hydrologic_influences_on_water-level_changes_in_the_Eastern_Snake_River_Plain_aquifer_at_and_near_the_Idaho_National_Laboratory,_Idaho,_1949-2014.pdf'\n",
      "WARNING:root:No PDF URL for: Pfeiffer,_Allison_et_al._-_2017_-_Proceedings_of_the_National_Academy_of_Sciences_-_Sediment_supply_controls_equilibrium_channel_geometry_in_gravel_rivers.pdf\n",
      "WARNING:root:No PDF URL for: Burgi,_Jonathan_-_2008_-_World_Environmental_and_Water_Resources_Congress_2011_-_A._R._Bowman_Dam_Outlet_Modifications__Lessons_Learned.pdf\n"
     ]
    }
   ],
   "source": [
    "# Call the function\n",
    "out_pdfdir_basename = re.sub('[.]*ris_*',\n",
    "                             '', \n",
    "                             os.path.basename(oalex_records_ris_path))\n",
    "download_and_rename_pdfs(\n",
    "    df=oalex_fulltext_info_pd,\n",
    "    out_dir=os.path.join(resdir, out_pdfdir_basename)\n",
    "    verbose=False\n",
    ")"
   ]
  },
  {
   "cell_type": "code",
   "execution_count": 179,
   "id": "747ee722-109c-40b6-b756-774c0cc8f621",
   "metadata": {},
   "outputs": [
    {
     "name": "stdout",
     "output_type": "stream",
     "text": [
      "oalex_records_202503221902\n"
     ]
    }
   ],
   "source": [
    "print()"
   ]
  },
  {
   "cell_type": "code",
   "execution_count": null,
   "id": "5747ea26-43e1-4410-a6a3-95078b9e71eb",
   "metadata": {},
   "outputs": [],
   "source": []
  }
 ],
 "metadata": {
  "kernelspec": {
   "display_name": "Python 3 (ipykernel)",
   "language": "python",
   "name": "python3"
  },
  "language_info": {
   "codemirror_mode": {
    "name": "ipython",
    "version": 3
   },
   "file_extension": ".py",
   "mimetype": "text/x-python",
   "name": "python",
   "nbconvert_exporter": "python",
   "pygments_lexer": "ipython3",
   "version": "3.12.3"
  }
 },
 "nbformat": 4,
 "nbformat_minor": 5
}
