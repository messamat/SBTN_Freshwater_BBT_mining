{
 "cells": [
  {
   "cell_type": "code",
   "execution_count": 45,
   "metadata": {},
   "outputs": [],
   "source": [
    "from scholarly import scholarly, ProxyGenerator\n",
    "\n",
    "# Retrieve the author's data, fill-in, and print\n",
    "# search_query = scholarly.search_pubs('environmental flows')"
   ]
  },
  {
   "cell_type": "code",
   "execution_count": 50,
   "metadata": {},
   "outputs": [],
   "source": [
    "pg = ProxyGenerator()\n",
    "scholarly.use_proxy(pg)\n"
   ]
  },
  {
   "cell_type": "code",
   "execution_count": 69,
   "metadata": {},
   "outputs": [
    {
     "name": "stdout",
     "output_type": "stream",
     "text": [
      "A global perspective on environmental flow assessment: emerging trends in the development and application of environmental flow methodologies for rivers\n",
      "['RE Tharme']\n",
      "# citations: 2045\n",
      "http://www.waterandnature.org/sites/default/files/global_assessmenttharme._2003.pdf \n",
      "\n",
      "Comparative evaluation of environmental flow assessment techniques: review of methods\n",
      "['AH Arthington', 'JM Zalucki']\n",
      "# citations: 285\n",
      "http://27.111.91.222/xmlui/bitstream/handle/1/1831/pr980309.pdf?sequence=2&isAllowed=y \n",
      "\n",
      "Environmental flow assessment with emphasis on holistic methodologies\n",
      "['AH Arthington', 'R Tharme', 'SO Brizga']\n",
      "# citations: 129\n",
      "https://coin.fao.org/coin-static/cms/media/9/13170355180720/2004_17.pdf#page=45 \n",
      "\n",
      "A scenario‐based holistic approach to environmental flow assessments for rivers\n",
      "['J King', 'C Brown', 'H Sabet']\n",
      "# citations: 545\n",
      "https://www.researchgate.net/profile/Cate-Brown-2/publication/227614962_A_Scenario-Based_Holistic_Approach_to_Environmental_Flow_Assessments_for_Rivers/links/5a13daaba6fdcc717b56a895/A-Scenario-Based-Holistic-Approach-to-Environmental-Flow-Assessments-for-Rivers.pdf \n",
      "\n"
     ]
    },
    {
     "data": {
      "text/plain": [
       "{'container_type': 'Publication',\n",
       " 'source': <PublicationSource.PUBLICATION_SEARCH_SNIPPET: 'PUBLICATION_SEARCH_SNIPPET'>,\n",
       " 'bib': {'title': 'A scenario‐based holistic approach to environmental flow assessments for rivers',\n",
       "  'author': ['J King', 'C Brown', 'H Sabet'],\n",
       "  'pub_year': '2003',\n",
       "  'venue': 'River research and applications',\n",
       "  'abstract': 'approach to advising on environmental flows for rivers, that was  as the outcomes of the flow  assessments are presently the subject  and outcomes from one flow assessment in Lesotho.'},\n",
       " 'filled': False,\n",
       " 'gsrank': 4,\n",
       " 'pub_url': 'https://onlinelibrary.wiley.com/doi/abs/10.1002/rra.709',\n",
       " 'author_id': ['', '', ''],\n",
       " 'url_scholarbib': '/scholar?hl=en&q=info:HYDK_Qu4dTcJ:scholar.google.com/&output=cite&scirp=3&hl=en',\n",
       " 'url_add_sclib': '/citations?hl=en&xsrf=&continue=/scholar%3Fq%3Denvironmental%2Bflow%2Bassessment%26hl%3Den%26as_sdt%3D0,33&citilm=1&update_op=library_add&info=HYDK_Qu4dTcJ&ei=eamHY6DSEb-D6rQPotOMKA&json=',\n",
       " 'num_citations': 545,\n",
       " 'citedby_url': '/scholar?cites=3996302606003240989&as_sdt=5,33&sciodt=0,33&hl=en',\n",
       " 'url_related_articles': '/scholar?q=related:HYDK_Qu4dTcJ:scholar.google.com/&scioq=environmental+flow+assessment&hl=en&as_sdt=0,33',\n",
       " 'eprint_url': 'https://www.researchgate.net/profile/Cate-Brown-2/publication/227614962_A_Scenario-Based_Holistic_Approach_to_Environmental_Flow_Assessments_for_Rivers/links/5a13daaba6fdcc717b56a895/A-Scenario-Based-Holistic-Approach-to-Environmental-Flow-Assessments-for-Rivers.pdf'}"
      ]
     },
     "execution_count": 69,
     "metadata": {},
     "output_type": "execute_result"
    }
   ],
   "source": [
    "for idx,x in enumerate(scholarly.search_pubs('environmental flow assessment')):\n",
    "    print(x['bib']['title'])\n",
    "    print(x['bib']['author'])\n",
    "    print(f\"# citations: {x['num_citations']}\")\n",
    "    print(x['eprint_url'],\"\\n\")\n",
    "    if idx == 3:\n",
    "        break\n",
    "x\n",
    "# print(query.keys())"
   ]
  }
 ],
 "metadata": {
  "kernelspec": {
   "display_name": "Python 3 (ipykernel)",
   "language": "python",
   "name": "python3"
  },
  "language_info": {
   "codemirror_mode": {
    "name": "ipython",
    "version": 3
   },
   "file_extension": ".py",
   "mimetype": "text/x-python",
   "name": "python",
   "nbconvert_exporter": "python",
   "pygments_lexer": "ipython3",
   "version": "3.12.9"
  }
 },
 "nbformat": 4,
 "nbformat_minor": 4
}
