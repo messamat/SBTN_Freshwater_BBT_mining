{
 "cells": [
  {
   "cell_type": "code",
   "execution_count": 3,
   "id": "7c0545b1-2abe-4e10-ad2b-987cc7c6742a",
   "metadata": {},
   "outputs": [],
   "source": [
    "%run download_geographic_refs.ipynb\n",
    "%run set_up.py \n",
    "\n",
    "import geopandas as gpd\n",
    "import numpy as np\n",
    "import pandas as pd\n",
    "from shapely.geometry import Point\n",
    "import nltk\n",
    "from nltk.util import ngrams\n",
    "import re\n",
    "\n",
    "verbose=True"
   ]
  },
  {
   "cell_type": "code",
   "execution_count": 4,
   "id": "0ad174fb-a2a9-4e12-99b2-6a3ea69c45bc",
   "metadata": {},
   "outputs": [],
   "source": [
    "wbd_path = os.path.join(nhd_dir, 'WBD_National_GDB.gdb')\n",
    "hu12_parquet = os.path.join(nhd_dir, 'wbd_hu12list.parquet')\n",
    "basinatlas_path = os.path.join(hydroatlas_dir,  'BasinATLAS_v10.gdb')\n",
    "basinatlas11_parquet = os.path.join(hydroatlas_dir, 'basinatlas_lev11_idlist.parquet')\n",
    "geoglows_vpu_path = os.path.join(geoglows_dir, 'vpu-boundaries.gpkg')"
   ]
  },
  {
   "cell_type": "code",
   "execution_count": 5,
   "id": "9b9edc0a-cc1e-4f28-9aa3-1be09ea46427",
   "metadata": {},
   "outputs": [],
   "source": [
    "#Create a list of NHD HUC12\n",
    "def create_huc12_list(wbd_path, \n",
    "                      out_hu12_parquet,\n",
    "                      verbose=True):\n",
    "    if not os.path.exists(out_hu12_parquet):\n",
    "        if verbose:\n",
    "            print(f'Generating a list of HUC 12 and saving it to \\\n",
    "            {out_hu12_parquet}')\n",
    "        wbdhu12_list = gpd.read_file(filename=wbd_path, \n",
    "                                     layer='WBDHU12', \n",
    "                                     rows=105000,\n",
    "                                     columns=['huc12'],\n",
    "                                     ignore_geometry=True)\n",
    "        wbdhu12_list.to_parquet(out_hu12_parquet)\n",
    "    else:\n",
    "        wbdhu12_list = pd.read_parquet(out_hu12_parquet)\n",
    "    return(wbdhu12_list)\n",
    "\n",
    "hu12_list = create_huc12_list(wbd_path, hu12_parquet)"
   ]
  },
  {
   "cell_type": "code",
   "execution_count": 6,
   "id": "f92e4a12-8af2-4549-9500-e7d3131fdfce",
   "metadata": {},
   "outputs": [],
   "source": [
    "#Create a list of PFAF_ID for basins level 11\n",
    "def create_basinatlas11_list(basinatlas_path, \n",
    "                             out_basinatlas11_parquet, \n",
    "                             verbose=True):\n",
    "    if not os.path.exists(out_basinatlas11_parquet):\n",
    "        if verbose:\n",
    "            print(f'Generating a list of PFAF ID level 11 and saving it to \\\n",
    "            {out_basinatlas11_parquet}')\n",
    "            \n",
    "        basinatlas11_list = gpd.read_file(\n",
    "            filename=basinatlas_path, \n",
    "            layer='BasinATLAS_v10_lev11', \n",
    "            columns=['PFAF_ID'],\n",
    "            rows=1031785,\n",
    "            ignore_geometry=True).\\\n",
    "        astype(pd.Int64Dtype()).\\\n",
    "        rename(columns={\"PFAF_ID\": \"PFAF_ID11\"})\n",
    "        \n",
    "        basinatlas11_list.to_parquet(out_basinatlas11_parquet)\n",
    "    else:\n",
    "        basinatlas11_list = pd.read_parquet(out_basinatlas11_parquet)\n",
    "    return(basinatlas11_list)\n",
    "\n",
    "basinatlas11_list = create_basinatlas11_list(\n",
    "    basinatlas_path, \n",
    "    basinatlas11_parquet)"
   ]
  },
  {
   "cell_type": "code",
   "execution_count": 7,
   "id": "7c216daa-b88a-49f9-ba50-677d7669e109",
   "metadata": {},
   "outputs": [],
   "source": [
    "def _expand_basin_idlist(in_id_list,\n",
    "                         in_refids_parquet,\n",
    "                         refids_col,\n",
    "                         out_id_range):\n",
    "    \"\"\"\n",
    "    Expands a list of basin IDs by extracting IDs at different levels from a reference Parquet file.\n",
    "\n",
    "    Args:\n",
    "        in_id_list (list): List of input basin IDs.  Can be integers or strings.\n",
    "        in_refids_parquet (str): Path to the reference Parquet file.\n",
    "        refids_col (str): Name of the column in the Parquet file containing the full basin IDs.\n",
    "        out_id_range (list): List of integer levels to extract.  e.g., [6, 9, 12]\n",
    "\n",
    "    Returns:\n",
    "        pandas.DataFrame: DataFrame containing the expanded basin IDs.  The returned DataFrame\n",
    "                          will have columns named based on `refids_col` and levels in `out_id_range`.\n",
    "                          The data type of the output columns will match the input type of `in_id_list`.\n",
    "\n",
    "    Raises:\n",
    "        TypeError: If the length of input IDs is inconsistent with the length in reference table.\n",
    "        FileNotFoundError: If the input Parquet file does not exist.\n",
    "        ValueError:  If `out_id_range` contains values greater than the maximum ID length.\n",
    "                   Or if an empty DataFrame is returned by filtering.\n",
    "    \"\"\"\n",
    "\n",
    "    id_all_pd = pd.read_parquet(in_refids_parquet)\n",
    "\n",
    "    # Determine input type and maximum ID length\n",
    "    in_id_type = type(in_id_list[0])\n",
    "    if in_id_type == str:\n",
    "      in_id_len = len(in_id_list[0])\n",
    "    elif in_id_type == int:\n",
    "      in_id_len = len(str(in_id_list[0]))\n",
    "    else:\n",
    "      raise TypeError(\"in_id_list must be a list of strings or integers\")\n",
    "\n",
    "    # Determine the reference ID type and length\n",
    "    first_ref_id = id_all_pd[refids_col].iloc[0] #Get first item in col\n",
    "    refid_type = type(first_ref_id)\n",
    "\n",
    "    if refid_type == str:\n",
    "      refid_len = len(first_ref_id)\n",
    "    elif pd.api.types.is_integer_dtype(refid_type) or  refid_type == np.int64:\n",
    "      refid_len = len(str(first_ref_id))\n",
    "    else:\n",
    "      raise TypeError(f\"{refids_col} must contain strings or integers\")\n",
    "\n",
    "\n",
    "    if in_id_len > refid_len:\n",
    "        raise ValueError(f\"Input ID length ({in_id_len}) is greater than reference ID length ({refid_len})\")\n",
    "\n",
    "    # --- Input Validation on out_id_range ---\n",
    "    if any(level > refid_len for level in out_id_range):\n",
    "        raise ValueError(f\"out_id_range values cannot exceed reference ID length ({refid_len})\")\n",
    "\n",
    "    # --- Filtering ---\n",
    "    # Convert to string for consistent prefix matching, then convert back later\n",
    "    id_all_pd[refids_col] = id_all_pd[refids_col].astype(str)\n",
    "    in_id_list_str = [str(x) for x in in_id_list]\n",
    "\n",
    "    id_pd = id_all_pd[id_all_pd[refids_col].str.startswith(tuple(in_id_list_str))].copy()\n",
    "\n",
    "    if id_pd.empty:\n",
    "        raise ValueError(\"No matching IDs found. Check in_id_list and refids_col.\")\n",
    "\n",
    "    # --- Column Expansion ---\n",
    "    colroot = re.sub(r'[0-9]+', '', refids_col)\n",
    "    for id_level in out_id_range:\n",
    "        col_name = f'{colroot}{id_level}'\n",
    "        if col_name not in id_pd.columns:\n",
    "            id_pd.loc[:, col_name] = id_pd[refids_col].str[:id_level]\n",
    "            # Convert back to original type, if necessary\n",
    "            if in_id_type == int:\n",
    "                id_pd.loc[:, col_name] = pd.to_numeric(id_pd[col_name],\n",
    "                                                       errors='raise') \n",
    "\n",
    "    # Convert refids_col back to original type\n",
    "    if pd.api.types.is_integer_dtype(refid_type) or  refid_type == np.int64:\n",
    "        id_pd[refids_col] = pd.to_numeric(id_pd[refids_col], \n",
    "                                          errors='raise')\n",
    "\n",
    "    return id_pd"
   ]
  },
  {
   "cell_type": "code",
   "execution_count": 8,
   "id": "e8b629b3-15d0-4616-88d3-dcdd5dd59e93",
   "metadata": {},
   "outputs": [],
   "source": [
    "def _format_gdf_tojoin(in_xytab=None, lon_col=None, lat_col=None, \n",
    "                       in_vector=None, hull=True):\n",
    "    #Read xy table\n",
    "    if in_xytab:\n",
    "        points_df = pd.read_table(point_locations_path)\n",
    "        gdf_to_join = gpd.GeoDataFrame(\n",
    "            points_df,\n",
    "            geometry=[Point(xy) for xy \n",
    "                      in zip(points_df[lon_col], points_df[lat_col])]\n",
    "        )\n",
    "    \n",
    "    #Read vector layer\n",
    "    if in_vector:\n",
    "        gdf_to_join = gpd.read_file(in_vector)\n",
    "\n",
    "    if hull:\n",
    "        # Create convex hull using union_all() (current recommended method)\n",
    "        gdf_to_join = gpd.GeoDataFrame(\n",
    "            geometry=[gdf_to_join.geometry.union_all().convex_hull], \n",
    "            crs=gdf_to_join.crs\n",
    "        )\n",
    "    return(gdf_to_join)"
   ]
  },
  {
   "cell_type": "code",
   "execution_count": 9,
   "id": "1ceed7e1-dd52-4480-9e1d-47b0799229f7",
   "metadata": {},
   "outputs": [
    {
     "name": "stdout",
     "output_type": "stream",
     "text": [
      "               huc12 huc2  huc4    huc6      huc8       huc10\n",
      "0       070200090402   07  0702  070200  07020009  0702000904\n",
      "1       070200030503   07  0702  070200  07020003  0702000305\n",
      "2       070200030602   07  0702  070200  07020003  0702000306\n",
      "6       070200030701   07  0702  070200  07020003  0702000307\n",
      "7       070300040804   07  0703  070300  07030004  0703000408\n",
      "...              ...  ...   ...     ...       ...         ...\n",
      "101242  071200010601   07  0712  071200  07120001  0712000106\n",
      "101243  071200011301   07  0712  071200  07120001  0712000113\n",
      "101244  071200010501   07  0712  071200  07120001  0712000105\n",
      "101246  071200011002   07  0712  071200  07120001  0712000110\n",
      "101248  071200030306   07  0712  071200  07120003  0712000303\n",
      "\n",
      "[11145 rows x 6 columns]\n"
     ]
    }
   ],
   "source": [
    "def get_matching_NHD_HU(in_wbd_path,\n",
    "                        in_xytab=None, lon_col=None, lat_col=None,\n",
    "                        in_vector=None, \n",
    "                        in_id_list=None, \n",
    "                        in_refids_parquet=None,\n",
    "                        hull=True, sjoin_predicate='intersects'):\n",
    "\n",
    "    #If points or polygons are provided ----------------------------------------\n",
    "    if in_xytab or in_vector:\n",
    "        gdf_to_join = _format_gdf_tojoin(in_xytab, lon_col, lat_col, \n",
    "                                         in_vector, \n",
    "                                         hull)\n",
    "        \n",
    "        #Get NHD WBD\n",
    "        wbdhu6 = gpd.read_file(filename=in_wbd_path, \n",
    "                               layer='WBDHU6',\n",
    "                               columns=['huc6']\n",
    "                              )\n",
    "    \n",
    "        #Spatially join to hydrologic units\n",
    "        matched_nhd = gpd.sjoin(gdf_to_join.to_crs(crs=wbdhu6.crs), \n",
    "                               wbdhu6, \n",
    "                               how='left', \n",
    "                               predicate=sjoin_predicate)\n",
    "        in_id_list = matched_nhd.huc6.values.tolist()\n",
    "        \n",
    "    huc_pd = _expand_basin_idlist(\n",
    "        in_id_list, \n",
    "        in_refids_parquet, \n",
    "        refids_col='huc12', \n",
    "        out_id_range=range(2, 14, 2))\n",
    "\n",
    "    return(huc_pd)\n",
    "\n",
    "test_pts_path = os.path.join(datdir, 'test_gages', 'test_gages.shp')\n",
    "test_huc_pd = get_matching_NHD_HU(\n",
    "    in_wbd_path=wbd_path,\n",
    "    in_vector=test_pts_path,\n",
    "    in_refids_parquet=hu12_parquet,\n",
    "    hull=True,\n",
    "    sjoin_predicate='intersects'\n",
    ")\n",
    "print(test_huc_pd)\n",
    "\n",
    "#in_id_list = in_umrb_huc4s = [f'07{str(i).zfill(2)}' for i in range(2,15)]"
   ]
  },
  {
   "cell_type": "code",
   "execution_count": 10,
   "id": "1752ba54-3c3c-484a-bdb1-bc440a3096ca",
   "metadata": {},
   "outputs": [
    {
     "name": "stderr",
     "output_type": "stream",
     "text": [
      "C:\\Users\\mamessager\\anaconda3\\Lib\\site-packages\\pyogrio\\raw.py:198: RuntimeWarning: organizePolygons() received a polygon with more than 100 parts. The processing may be really slow.  You can skip the processing by setting METHOD=SKIP, or only make it analyze counter-clock wise parts by setting METHOD=ONLY_CCW if you can assume that the outline of holes is counter-clock wise defined\n",
      "  return ogr_read(\n"
     ]
    },
    {
     "name": "stdout",
     "output_type": "stream",
     "text": [
      "          PFAF_ID11 PFAF_ID3 PFAF_ID4 PFAF_ID5 PFAF_ID6 PFAF_ID7  PFAF_ID8  \\\n",
      "904887  72582801010      725     7258    72582   725828  7258280  72582801   \n",
      "904957  72582801031      725     7258    72582   725828  7258280  72582801   \n",
      "904959  72582801020      725     7258    72582   725828  7258280  72582801   \n",
      "905050  72582801032      725     7258    72582   725828  7258280  72582801   \n",
      "905108  72582803010      725     7258    72582   725828  7258280  72582803   \n",
      "...             ...      ...      ...      ...      ...      ...       ...   \n",
      "933377  74289780900      742     7428    74289   742897  7428978  74289780   \n",
      "933386  74288609310      742     7428    74288   742886  7428860  74288609   \n",
      "933387  74288609200      742     7428    74288   742886  7428860  74288609   \n",
      "933532  74288609320      742     7428    74288   742886  7428860  74288609   \n",
      "933590  74288609330      742     7428    74288   742886  7428860  74288609   \n",
      "\n",
      "         PFAF_ID9   PFAF_ID10  \n",
      "904887  725828010  7258280101  \n",
      "904957  725828010  7258280103  \n",
      "904959  725828010  7258280102  \n",
      "905050  725828010  7258280103  \n",
      "905108  725828030  7258280301  \n",
      "...           ...         ...  \n",
      "933377  742897809  7428978090  \n",
      "933386  742886093  7428860931  \n",
      "933387  742886092  7428860920  \n",
      "933532  742886093  7428860932  \n",
      "933590  742886093  7428860933  \n",
      "\n",
      "[6542 rows x 9 columns]\n",
      "          PFAF_ID11 PFAF_ID3 PFAF_ID4 PFAF_ID5 PFAF_ID6 PFAF_ID7  PFAF_ID8  \\\n",
      "924083  74287310010      742     7428    74287   742873  7428731  74287310   \n",
      "924199  74287310031      742     7428    74287   742873  7428731  74287310   \n",
      "924200  74287310020      742     7428    74287   742873  7428731  74287310   \n",
      "924273  74287310032      742     7428    74287   742873  7428731  74287310   \n",
      "924500  74287331010      742     7428    74287   742873  7428733  74287331   \n",
      "...             ...      ...      ...      ...      ...      ...       ...   \n",
      "931686  74287696030      742     7428    74287   742876  7428769  74287696   \n",
      "931762  74287699010      742     7428    74287   742876  7428769  74287699   \n",
      "931764  74287698010      742     7428    74287   742876  7428769  74287698   \n",
      "931855  74287698020      742     7428    74287   742876  7428769  74287698   \n",
      "931944  74287699020      742     7428    74287   742876  7428769  74287699   \n",
      "\n",
      "         PFAF_ID9   PFAF_ID10  \n",
      "924083  742873100  7428731001  \n",
      "924199  742873100  7428731003  \n",
      "924200  742873100  7428731002  \n",
      "924273  742873100  7428731003  \n",
      "924500  742873310  7428733101  \n",
      "...           ...         ...  \n",
      "931686  742876960  7428769603  \n",
      "931762  742876990  7428769901  \n",
      "931764  742876980  7428769801  \n",
      "931855  742876980  7428769802  \n",
      "931944  742876990  7428769902  \n",
      "\n",
      "[590 rows x 9 columns]\n"
     ]
    }
   ],
   "source": [
    "def get_matching_hydrobasin(in_basinatlas_path,\n",
    "                            in_xytab=None, lon_col=None, lat_col=None,\n",
    "                            in_vector=None, \n",
    "                            in_id_list=None, \n",
    "                            in_refids_parquet=None,\n",
    "                            hull=True, sjoin_predicate='intersects'):\n",
    "    #If points or polygons are provided ----------------------------------------\n",
    "    if in_xytab or in_vector:\n",
    "        gdf_to_join = _format_gdf_tojoin(in_xytab, lon_col, lat_col, \n",
    "                                         in_vector, \n",
    "                                         hull)\n",
    "        \n",
    "        #Reach NHD WBD\n",
    "        bas_lev6 = gpd.read_file(filename=in_basinatlas_path, \n",
    "                                 layer='BasinATLAS_v10_lev06',\n",
    "                                 columns=['PFAF_ID']\n",
    "                                ).rename(columns={\"PFAF_ID\": \"PFAF_ID6\"})\n",
    "    \n",
    "        #Spatially join to hydrologic units\n",
    "        matched_bas = gpd.sjoin(gdf_to_join.to_crs(crs=bas_lev6.crs), \n",
    "                               bas_lev6, \n",
    "                               how='left', \n",
    "                               predicate=sjoin_predicate)\n",
    "        in_id_list = matched_bas.PFAF_ID6.tolist()\n",
    "\n",
    "    pfaf_pd = _expand_basin_idlist(\n",
    "        in_id_list, \n",
    "        in_refids_parquet, \n",
    "        refids_col='PFAF_ID11', \n",
    "        out_id_range=range(3, 12))\n",
    "\n",
    "    return(pfaf_pd)\n",
    "\n",
    "test_pfaf_pd = get_matching_hydrobasin(\n",
    "    in_basinatlas_path=basinatlas_path,\n",
    "    in_vector=test_pts_path,\n",
    "    #in_id_list=None, \n",
    "    in_refids_parquet=basinatlas11_parquet,\n",
    "    hull=True,\n",
    "    sjoin_predicate='intersects'\n",
    ")\n",
    "print(test_pfaf_pd)\n",
    "\n",
    "test_pfaf_pd_idlist = get_matching_hydrobasin(\n",
    "    in_basinatlas_path=basinatlas_path,\n",
    "    in_id_list=[742873, 742875, 742876], \n",
    "    in_refids_parquet=basinatlas11_parquet\n",
    ")\n",
    "print(test_pfaf_pd_idlist)\n"
   ]
  },
  {
   "cell_type": "code",
   "execution_count": 11,
   "id": "63b4c209-e270-401d-aa94-c71deb7593d9",
   "metadata": {},
   "outputs": [
    {
     "name": "stdout",
     "output_type": "stream",
     "text": [
      "['714', '709']\n"
     ]
    }
   ],
   "source": [
    "def get_geoglows_vpu(in_geoglows_vpu_path,\n",
    "                     in_xytab=None, lon_col=None, lat_col=None,\n",
    "                     in_vector=None, \n",
    "                     in_id_list=None, \n",
    "                     in_refids_parquet=None,\n",
    "                     hull=True, sjoin_predicate='intersects'):\n",
    "    \n",
    "    if in_xytab or in_vector:\n",
    "        gdf_to_join = _format_gdf_tojoin(in_xytab, lon_col, lat_col, \n",
    "                                         in_vector, \n",
    "                                         hull)\n",
    "        \n",
    "        #Reach NHD WBD\n",
    "        vpus = gpd.read_file(filename=in_geoglows_vpu_path, \n",
    "                                 layer='vpu-boundaries',\n",
    "                                 columns=['VPU']\n",
    "                                )\n",
    "    \n",
    "        #Spatially join to hydrologic units\n",
    "        matched_vpus = gpd.sjoin(gdf_to_join.to_crs(crs=vpus.crs), \n",
    "                                 vpus, \n",
    "                                 how='left', \n",
    "                                 predicate=sjoin_predicate)\n",
    "        vpu_list = matched_vpus.VPU.tolist()\n",
    "\n",
    "    return(vpu_list)\n",
    "\n",
    "test_vpu_list = get_geoglows_vpu(\n",
    "    in_geoglows_vpu_path=geoglows_vpu_path,\n",
    "    in_vector=test_pts_path,\n",
    "    hull=True,\n",
    "    sjoin_predicate='intersects'\n",
    ")\n",
    "print(test_vpu_list)"
   ]
  },
  {
   "cell_type": "code",
   "execution_count": 21,
   "id": "83ffc30c-426d-41df-bcd4-2fb3a9ffb4a2",
   "metadata": {
    "scrolled": true
   },
   "outputs": [
    {
     "name": "stdout",
     "output_type": "stream",
     "text": [
      "Getting NHD basin names\n",
      "0702\n"
     ]
    },
    {
     "name": "stderr",
     "output_type": "stream",
     "text": [
      "C:\\Users\\mamessager\\anaconda3\\Lib\\site-packages\\pyogrio\\raw.py:198: UserWarning: Measured (M) geometry types are not supported. Original type 'Measured 3D MultiLineString' is converted to 'MultiLineString Z'\n",
      "  return ogr_read(\n"
     ]
    },
    {
     "name": "stdout",
     "output_type": "stream",
     "text": [
      "0703\n"
     ]
    },
    {
     "name": "stderr",
     "output_type": "stream",
     "text": [
      "C:\\Users\\mamessager\\anaconda3\\Lib\\site-packages\\pyogrio\\raw.py:198: UserWarning: Measured (M) geometry types are not supported. Original type 'Measured 3D MultiLineString' is converted to 'MultiLineString Z'\n",
      "  return ogr_read(\n"
     ]
    },
    {
     "name": "stdout",
     "output_type": "stream",
     "text": [
      "0709\n"
     ]
    },
    {
     "name": "stderr",
     "output_type": "stream",
     "text": [
      "C:\\Users\\mamessager\\anaconda3\\Lib\\site-packages\\pyogrio\\raw.py:198: UserWarning: Measured (M) geometry types are not supported. Original type 'Measured 3D MultiLineString' is converted to 'MultiLineString Z'\n",
      "  return ogr_read(\n"
     ]
    },
    {
     "name": "stdout",
     "output_type": "stream",
     "text": [
      "0707\n"
     ]
    },
    {
     "name": "stderr",
     "output_type": "stream",
     "text": [
      "C:\\Users\\mamessager\\anaconda3\\Lib\\site-packages\\pyogrio\\raw.py:198: UserWarning: Measured (M) geometry types are not supported. Original type 'Measured 3D MultiLineString' is converted to 'MultiLineString Z'\n",
      "  return ogr_read(\n"
     ]
    },
    {
     "name": "stdout",
     "output_type": "stream",
     "text": [
      "0704\n"
     ]
    },
    {
     "name": "stderr",
     "output_type": "stream",
     "text": [
      "C:\\Users\\mamessager\\anaconda3\\Lib\\site-packages\\pyogrio\\raw.py:198: UserWarning: Measured (M) geometry types are not supported. Original type 'Measured 3D MultiLineString' is converted to 'MultiLineString Z'\n",
      "  return ogr_read(\n"
     ]
    },
    {
     "name": "stdout",
     "output_type": "stream",
     "text": [
      "0701\n"
     ]
    },
    {
     "name": "stderr",
     "output_type": "stream",
     "text": [
      "C:\\Users\\mamessager\\anaconda3\\Lib\\site-packages\\pyogrio\\raw.py:198: UserWarning: Measured (M) geometry types are not supported. Original type 'Measured 3D MultiLineString' is converted to 'MultiLineString Z'\n",
      "  return ogr_read(\n"
     ]
    },
    {
     "name": "stdout",
     "output_type": "stream",
     "text": [
      "0512\n"
     ]
    },
    {
     "name": "stderr",
     "output_type": "stream",
     "text": [
      "C:\\Users\\mamessager\\anaconda3\\Lib\\site-packages\\pyogrio\\raw.py:198: UserWarning: Measured (M) geometry types are not supported. Original type 'Measured 3D MultiLineString' is converted to 'MultiLineString Z'\n",
      "  return ogr_read(\n"
     ]
    },
    {
     "name": "stdout",
     "output_type": "stream",
     "text": [
      "0713\n"
     ]
    },
    {
     "name": "stderr",
     "output_type": "stream",
     "text": [
      "C:\\Users\\mamessager\\anaconda3\\Lib\\site-packages\\pyogrio\\raw.py:198: UserWarning: Measured (M) geometry types are not supported. Original type 'Measured 3D MultiLineString' is converted to 'MultiLineString Z'\n",
      "  return ogr_read(\n"
     ]
    },
    {
     "name": "stdout",
     "output_type": "stream",
     "text": [
      "0802\n"
     ]
    },
    {
     "name": "stderr",
     "output_type": "stream",
     "text": [
      "C:\\Users\\mamessager\\anaconda3\\Lib\\site-packages\\pyogrio\\raw.py:198: UserWarning: Measured (M) geometry types are not supported. Original type 'Measured 3D MultiLineString' is converted to 'MultiLineString Z'\n",
      "  return ogr_read(\n"
     ]
    },
    {
     "name": "stdout",
     "output_type": "stream",
     "text": [
      "0705\n"
     ]
    },
    {
     "name": "stderr",
     "output_type": "stream",
     "text": [
      "C:\\Users\\mamessager\\anaconda3\\Lib\\site-packages\\pyogrio\\raw.py:198: UserWarning: Measured (M) geometry types are not supported. Original type 'Measured 3D MultiLineString' is converted to 'MultiLineString Z'\n",
      "  return ogr_read(\n"
     ]
    },
    {
     "name": "stdout",
     "output_type": "stream",
     "text": [
      "0514\n"
     ]
    },
    {
     "name": "stderr",
     "output_type": "stream",
     "text": [
      "C:\\Users\\mamessager\\anaconda3\\Lib\\site-packages\\pyogrio\\raw.py:198: UserWarning: Measured (M) geometry types are not supported. Original type 'Measured 3D MultiLineString' is converted to 'MultiLineString Z'\n",
      "  return ogr_read(\n"
     ]
    },
    {
     "name": "stdout",
     "output_type": "stream",
     "text": [
      "0711\n"
     ]
    },
    {
     "name": "stderr",
     "output_type": "stream",
     "text": [
      "C:\\Users\\mamessager\\anaconda3\\Lib\\site-packages\\pyogrio\\raw.py:198: UserWarning: Measured (M) geometry types are not supported. Original type 'Measured 3D MultiLineString' is converted to 'MultiLineString Z'\n",
      "  return ogr_read(\n"
     ]
    },
    {
     "name": "stdout",
     "output_type": "stream",
     "text": [
      "1023\n"
     ]
    },
    {
     "name": "stderr",
     "output_type": "stream",
     "text": [
      "C:\\Users\\mamessager\\anaconda3\\Lib\\site-packages\\pyogrio\\raw.py:198: UserWarning: Measured (M) geometry types are not supported. Original type 'Measured 3D MultiLineString' is converted to 'MultiLineString Z'\n",
      "  return ogr_read(\n"
     ]
    },
    {
     "name": "stdout",
     "output_type": "stream",
     "text": [
      "0712\n"
     ]
    },
    {
     "name": "stderr",
     "output_type": "stream",
     "text": [
      "C:\\Users\\mamessager\\anaconda3\\Lib\\site-packages\\pyogrio\\raw.py:198: UserWarning: Measured (M) geometry types are not supported. Original type 'Measured 3D MultiLineString' is converted to 'MultiLineString Z'\n",
      "  return ogr_read(\n"
     ]
    },
    {
     "name": "stdout",
     "output_type": "stream",
     "text": [
      "0708\n"
     ]
    },
    {
     "name": "stderr",
     "output_type": "stream",
     "text": [
      "C:\\Users\\mamessager\\anaconda3\\Lib\\site-packages\\pyogrio\\raw.py:198: UserWarning: Measured (M) geometry types are not supported. Original type 'Measured 3D MultiLineString' is converted to 'MultiLineString Z'\n",
      "  return ogr_read(\n"
     ]
    },
    {
     "name": "stdout",
     "output_type": "stream",
     "text": [
      "0714\n"
     ]
    },
    {
     "name": "stderr",
     "output_type": "stream",
     "text": [
      "C:\\Users\\mamessager\\anaconda3\\Lib\\site-packages\\pyogrio\\raw.py:198: UserWarning: Measured (M) geometry types are not supported. Original type 'Measured 3D MultiLineString' is converted to 'MultiLineString Z'\n",
      "  return ogr_read(\n"
     ]
    },
    {
     "name": "stdout",
     "output_type": "stream",
     "text": [
      "0706\n"
     ]
    },
    {
     "name": "stderr",
     "output_type": "stream",
     "text": [
      "C:\\Users\\mamessager\\anaconda3\\Lib\\site-packages\\pyogrio\\raw.py:198: UserWarning: Measured (M) geometry types are not supported. Original type 'Measured 3D MultiLineString' is converted to 'MultiLineString Z'\n",
      "  return ogr_read(\n"
     ]
    },
    {
     "name": "stdout",
     "output_type": "stream",
     "text": [
      "0710\n"
     ]
    },
    {
     "name": "stderr",
     "output_type": "stream",
     "text": [
      "C:\\Users\\mamessager\\anaconda3\\Lib\\site-packages\\pyogrio\\raw.py:198: UserWarning: Measured (M) geometry types are not supported. Original type 'Measured 3D MultiLineString' is converted to 'MultiLineString Z'\n",
      "  return ogr_read(\n"
     ]
    },
    {
     "name": "stdout",
     "output_type": "stream",
     "text": [
      "0801\n"
     ]
    },
    {
     "name": "stderr",
     "output_type": "stream",
     "text": [
      "C:\\Users\\mamessager\\anaconda3\\Lib\\site-packages\\pyogrio\\raw.py:198: UserWarning: Measured (M) geometry types are not supported. Original type 'Measured 3D MultiLineString' is converted to 'MultiLineString Z'\n",
      "  return ogr_read(\n"
     ]
    },
    {
     "name": "stdout",
     "output_type": "stream",
     "text": [
      "1028\n"
     ]
    },
    {
     "name": "stderr",
     "output_type": "stream",
     "text": [
      "C:\\Users\\mamessager\\anaconda3\\Lib\\site-packages\\pyogrio\\raw.py:198: UserWarning: Measured (M) geometry types are not supported. Original type 'Measured 3D MultiLineString' is converted to 'MultiLineString Z'\n",
      "  return ogr_read(\n"
     ]
    },
    {
     "name": "stdout",
     "output_type": "stream",
     "text": [
      "1030\n"
     ]
    },
    {
     "name": "stderr",
     "output_type": "stream",
     "text": [
      "C:\\Users\\mamessager\\anaconda3\\Lib\\site-packages\\pyogrio\\raw.py:198: UserWarning: Measured (M) geometry types are not supported. Original type 'Measured 3D MultiLineString' is converted to 'MultiLineString Z'\n",
      "  return ogr_read(\n"
     ]
    },
    {
     "name": "stdout",
     "output_type": "stream",
     "text": [
      "1024\n"
     ]
    },
    {
     "name": "stderr",
     "output_type": "stream",
     "text": [
      "C:\\Users\\mamessager\\anaconda3\\Lib\\site-packages\\pyogrio\\raw.py:198: UserWarning: Measured (M) geometry types are not supported. Original type 'Measured 3D MultiLineString' is converted to 'MultiLineString Z'\n",
      "  return ogr_read(\n"
     ]
    },
    {
     "name": "stdout",
     "output_type": "stream",
     "text": [
      "1101\n"
     ]
    },
    {
     "name": "stderr",
     "output_type": "stream",
     "text": [
      "C:\\Users\\mamessager\\anaconda3\\Lib\\site-packages\\pyogrio\\raw.py:198: UserWarning: Measured (M) geometry types are not supported. Original type 'Measured 3D MultiLineString' is converted to 'MultiLineString Z'\n",
      "  return ogr_read(\n"
     ]
    },
    {
     "name": "stdout",
     "output_type": "stream",
     "text": [
      "0511\n"
     ]
    },
    {
     "name": "stderr",
     "output_type": "stream",
     "text": [
      "C:\\Users\\mamessager\\anaconda3\\Lib\\site-packages\\pyogrio\\raw.py:198: UserWarning: Measured (M) geometry types are not supported. Original type 'Measured 3D MultiLineString' is converted to 'MultiLineString Z'\n",
      "  return ogr_read(\n"
     ]
    },
    {
     "name": "stdout",
     "output_type": "stream",
     "text": [
      "0604\n"
     ]
    },
    {
     "name": "stderr",
     "output_type": "stream",
     "text": [
      "C:\\Users\\mamessager\\anaconda3\\Lib\\site-packages\\pyogrio\\raw.py:198: UserWarning: Measured (M) geometry types are not supported. Original type 'Measured 3D MultiLineString' is converted to 'MultiLineString Z'\n",
      "  return ogr_read(\n"
     ]
    },
    {
     "name": "stdout",
     "output_type": "stream",
     "text": [
      "1029\n"
     ]
    },
    {
     "name": "stderr",
     "output_type": "stream",
     "text": [
      "C:\\Users\\mamessager\\anaconda3\\Lib\\site-packages\\pyogrio\\raw.py:198: UserWarning: Measured (M) geometry types are not supported. Original type 'Measured 3D MultiLineString' is converted to 'MultiLineString Z'\n",
      "  return ogr_read(\n"
     ]
    },
    {
     "name": "stdout",
     "output_type": "stream",
     "text": [
      "0513\n"
     ]
    },
    {
     "name": "stderr",
     "output_type": "stream",
     "text": [
      "C:\\Users\\mamessager\\anaconda3\\Lib\\site-packages\\pyogrio\\raw.py:198: UserWarning: Measured (M) geometry types are not supported. Original type 'Measured 3D MultiLineString' is converted to 'MultiLineString Z'\n",
      "  return ogr_read(\n"
     ]
    },
    {
     "name": "stdout",
     "output_type": "stream",
     "text": [
      "0401\n"
     ]
    },
    {
     "name": "stderr",
     "output_type": "stream",
     "text": [
      "C:\\Users\\mamessager\\anaconda3\\Lib\\site-packages\\pyogrio\\raw.py:198: UserWarning: Measured (M) geometry types are not supported. Original type 'Measured 3D MultiLineString' is converted to 'MultiLineString Z'\n",
      "  return ogr_read(\n"
     ]
    },
    {
     "name": "stdout",
     "output_type": "stream",
     "text": [
      "0403\n"
     ]
    },
    {
     "name": "stderr",
     "output_type": "stream",
     "text": [
      "C:\\Users\\mamessager\\anaconda3\\Lib\\site-packages\\pyogrio\\raw.py:198: UserWarning: Measured (M) geometry types are not supported. Original type 'Measured 3D MultiLineString' is converted to 'MultiLineString Z'\n",
      "  return ogr_read(\n"
     ]
    }
   ],
   "source": [
    "def get_nhd_hydronyms(in_hucs, in_wbd_path,  out_dir,\n",
    "                      huc_range=range(2, 14, 2)\n",
    "                    ):\n",
    "    print('Getting NHD basin names')\n",
    "    #If panda dataframe\n",
    "    #Get basin names------------------------------------------------------------\n",
    "    for coln in in_hucs.columns:\n",
    "        huc_len = re.sub(r'[a-zA-Z]+', '', coln)\n",
    "        if int(huc_len) is None:\n",
    "            raise ValueError(f\"HUC level cannot be extracted from {coln}\")\n",
    "        if int(huc_len) in huc_range:\n",
    "            wbd = gpd.read_file(filename=in_wbd_path, \n",
    "                                layer=f'WBDHU{huc_len}',\n",
    "                                columns=[coln, 'name'],\n",
    "                                ignore_geometry=True\n",
    "                               )\n",
    "            in_hucs = in_hucs.merge(wbd, on=coln, how='left').\\\n",
    "            rename(columns={\"name\": f\"{coln}_name\"})\n",
    "\n",
    "    #Download data by HU4 if needed\n",
    "    huc4_list = in_hucs.huc4.unique()\n",
    "    nhd_huc4_pathdict = {}\n",
    "    for huc in huc4_list:\n",
    "        download_nhdplus_hr_hu4(\n",
    "            hu4=huc, \n",
    "            out_dir=out_dir, \n",
    "            verbose=False\n",
    "        )\n",
    "        nhd_huc4_pathdict[huc] = os.path.join(\n",
    "            out_dir,\n",
    "            f'NHDPLUS_H_{huc}_HU4_GDB.gdb')\n",
    "    #print(nhd_huc4_pathdict)\n",
    "    \n",
    "    #Get river names------------------------------------------------------------\n",
    "    #NHD flow line types: FCode attribute to subset\n",
    "    # 46000: Stream/River\n",
    "    # 46003: Stream/River: Hydrographic Category = Intermittent\n",
    "    # 46006: Stream/River: Hydrographic Category = Perennial\n",
    "    # 46007: Stream/River: Hydrographic Category = Ephemeral\n",
    "    # 55800: Artificial path'''\n",
    "    fcode_sel_list = [46000, 46006, 46003, 46007, 55800]\n",
    "    huc4_rivnames_dict = {}\n",
    "    for huc4 in nhd_huc4_pathdict:\n",
    "        print(huc4)\n",
    "        #Read flowlines\n",
    "        flowlines_gpd = gpd.read_file(\n",
    "            filename=nhd_huc4_pathdict[huc4], \n",
    "            layer='NHDFlowline',\n",
    "            columns=['NHDPlusID', 'ReachCode', 'GNIS_Name', 'FCode'],\n",
    "            ignore_geometry=True\n",
    "        )\n",
    "        vaa_pd = gpd.read_file(\n",
    "            filename=nhd_huc4_pathdict[huc4], \n",
    "            layer='NHDPlusFlowlineVAA',\n",
    "            columns=['NHDPlusID', 'StreamOrde'],\n",
    "            ignore_geometry=True\n",
    "        )\n",
    "\n",
    "\n",
    "        #reachcode: The first eight digits are the WBD_HUC8.\n",
    "        #The next six digits are randomly assigned, \n",
    "        #sequential numbers that are unique within a HUC8.\n",
    "        flowlines_gpd['huc8'] = flowlines_gpd['ReachCode'].str[:8] \n",
    "        huc8_sel = in_hucs[in_hucs['huc4']==huc4]['huc8'].unique()\n",
    "        flowlines_sub = flowlines_gpd[flowlines_gpd['huc8'].isin(huc8_sel)].\\\n",
    "        merge(vaa_pd, how='inner', on='NHDPlusID')\n",
    "    \n",
    "        rivnames = flowlines_sub[(\n",
    "            (flowlines_sub['FCode'].isin(fcode_sel_list)) \n",
    "            & (flowlines_sub['StreamOrde'] >=6)\n",
    "            & (flowlines_sub['GNIS_Name'].notna())\n",
    "        )].GNIS_Name.unique()\n",
    "\n",
    "        huc4_rivnames_dict[huc4] = rivnames\n",
    "\n",
    "    #Return dictionary with basin names and river names\n",
    "    out_dict = {}\n",
    "    out_dict['basins_all_pd'] = in_hucs\n",
    "    out_dict['rivers_huc4_dict'] = huc4_rivnames_dict\n",
    "\n",
    "    return(out_dict)\n",
    "\n",
    "test_nhd_hydronyms = get_nhd_hydronyms(\n",
    "    in_hucs=test_huc_pd,\n",
    "    in_wbd_path=wbd_path,\n",
    "    out_dir = os.path.join(nhd_dir, 'nhdplus_hr'),\n",
    "    huc_range=[2, 4, 6, 8]\n",
    ")\n",
    "\n",
    "#Create a set with all unique hydronyms from basins and rivers from NHD\n",
    "test_nhd_hydronyms_set = set([\n",
    "    *pd.melt(test_nhd_hydronyms['basins_all_pd'], \n",
    "             value_vars=[f'huc{lev}_name' for lev in [2, 4, 6]]\n",
    "            ).value.unique(),\n",
    "    *set({x for v in test_nhd_hydronyms['rivers_huc4_dict'].values() for x in v})\n",
    "])\n",
    "len(test_nhd_hydronyms_set)"
   ]
  },
  {
   "cell_type": "code",
   "execution_count": 56,
   "id": "f42bbd1c-0951-4875-9c42-1f09ac104c9c",
   "metadata": {},
   "outputs": [
    {
     "name": "stdout",
     "output_type": "stream",
     "text": [
      "Getting NHD data for all HU4\n",
      "1030\n"
     ]
    },
    {
     "name": "stderr",
     "output_type": "stream",
     "text": [
      "C:\\Users\\mamessager\\anaconda3\\Lib\\site-packages\\pyogrio\\raw.py:198: UserWarning: Measured (M) geometry types are not supported. Original type 'Measured 3D MultiLineString' is converted to 'MultiLineString Z'\n",
      "  return ogr_read(\n"
     ]
    },
    {
     "name": "stdout",
     "output_type": "stream",
     "text": [
      "0511\n"
     ]
    },
    {
     "name": "stderr",
     "output_type": "stream",
     "text": [
      "C:\\Users\\mamessager\\anaconda3\\Lib\\site-packages\\pyogrio\\raw.py:198: UserWarning: Measured (M) geometry types are not supported. Original type 'Measured 3D MultiLineString' is converted to 'MultiLineString Z'\n",
      "  return ogr_read(\n"
     ]
    },
    {
     "data": {
      "text/html": [
       "<div>\n",
       "<style scoped>\n",
       "    .dataframe tbody tr th:only-of-type {\n",
       "        vertical-align: middle;\n",
       "    }\n",
       "\n",
       "    .dataframe tbody tr th {\n",
       "        vertical-align: top;\n",
       "    }\n",
       "\n",
       "    .dataframe thead th {\n",
       "        text-align: right;\n",
       "    }\n",
       "</style>\n",
       "<table border=\"1\" class=\"dataframe\">\n",
       "  <thead>\n",
       "    <tr style=\"text-align: right;\">\n",
       "      <th></th>\n",
       "      <th>Permanent_Identifier</th>\n",
       "      <th>FDate</th>\n",
       "      <th>Resolution</th>\n",
       "      <th>GNIS_ID</th>\n",
       "      <th>GNIS_Name</th>\n",
       "      <th>LengthKM</th>\n",
       "      <th>ReachCode</th>\n",
       "      <th>FlowDir</th>\n",
       "      <th>WBArea_Permanent_Identifier</th>\n",
       "      <th>FType</th>\n",
       "      <th>...</th>\n",
       "      <th>MinElevRaw</th>\n",
       "      <th>MaxElevSmo</th>\n",
       "      <th>MinElevSmo</th>\n",
       "      <th>Slope</th>\n",
       "      <th>SlopeLenKm</th>\n",
       "      <th>ElevFixed</th>\n",
       "      <th>HWType</th>\n",
       "      <th>HWNodeSqKm</th>\n",
       "      <th>StatusFlag</th>\n",
       "      <th>VPUID_vaa</th>\n",
       "    </tr>\n",
       "  </thead>\n",
       "  <tbody>\n",
       "    <tr>\n",
       "      <th>0</th>\n",
       "      <td>31954731</td>\n",
       "      <td>2016-05-25 00:00:00+00:00</td>\n",
       "      <td>2</td>\n",
       "      <td>None</td>\n",
       "      <td>None</td>\n",
       "      <td>0.042435</td>\n",
       "      <td>05110003000792</td>\n",
       "      <td>1</td>\n",
       "      <td>120007605</td>\n",
       "      <td>558</td>\n",
       "      <td>...</td>\n",
       "      <td>11818.0</td>\n",
       "      <td>11818.0</td>\n",
       "      <td>11818.0</td>\n",
       "      <td>0.000010</td>\n",
       "      <td>0.042435</td>\n",
       "      <td>1</td>\n",
       "      <td>NaN</td>\n",
       "      <td>NaN</td>\n",
       "      <td>A</td>\n",
       "      <td>0511</td>\n",
       "    </tr>\n",
       "    <tr>\n",
       "      <th>1</th>\n",
       "      <td>31954765</td>\n",
       "      <td>2012-03-28 06:48:00+00:00</td>\n",
       "      <td>2</td>\n",
       "      <td>None</td>\n",
       "      <td>None</td>\n",
       "      <td>0.157000</td>\n",
       "      <td>05110003002341</td>\n",
       "      <td>1</td>\n",
       "      <td>31960569</td>\n",
       "      <td>558</td>\n",
       "      <td>...</td>\n",
       "      <td>11995.0</td>\n",
       "      <td>11995.0</td>\n",
       "      <td>11995.0</td>\n",
       "      <td>0.000010</td>\n",
       "      <td>0.057000</td>\n",
       "      <td>0</td>\n",
       "      <td>0.0</td>\n",
       "      <td>0.2514</td>\n",
       "      <td>A</td>\n",
       "      <td>0511</td>\n",
       "    </tr>\n",
       "    <tr>\n",
       "      <th>2</th>\n",
       "      <td>31956873</td>\n",
       "      <td>2016-05-25 00:00:00+00:00</td>\n",
       "      <td>2</td>\n",
       "      <td>None</td>\n",
       "      <td>None</td>\n",
       "      <td>0.121340</td>\n",
       "      <td>05110003008664</td>\n",
       "      <td>1</td>\n",
       "      <td>31962626</td>\n",
       "      <td>558</td>\n",
       "      <td>...</td>\n",
       "      <td>13695.0</td>\n",
       "      <td>13695.0</td>\n",
       "      <td>13695.0</td>\n",
       "      <td>0.000010</td>\n",
       "      <td>0.121340</td>\n",
       "      <td>1</td>\n",
       "      <td>NaN</td>\n",
       "      <td>NaN</td>\n",
       "      <td>A</td>\n",
       "      <td>0511</td>\n",
       "    </tr>\n",
       "    <tr>\n",
       "      <th>3</th>\n",
       "      <td>31956956</td>\n",
       "      <td>2016-05-25 00:00:00+00:00</td>\n",
       "      <td>2</td>\n",
       "      <td>00507017</td>\n",
       "      <td>Wolf Lick Creek</td>\n",
       "      <td>0.503370</td>\n",
       "      <td>05110003000051</td>\n",
       "      <td>1</td>\n",
       "      <td>120007605</td>\n",
       "      <td>558</td>\n",
       "      <td>...</td>\n",
       "      <td>12124.0</td>\n",
       "      <td>12170.0</td>\n",
       "      <td>12170.0</td>\n",
       "      <td>0.000010</td>\n",
       "      <td>0.503370</td>\n",
       "      <td>0</td>\n",
       "      <td>NaN</td>\n",
       "      <td>NaN</td>\n",
       "      <td>A</td>\n",
       "      <td>0511</td>\n",
       "    </tr>\n",
       "    <tr>\n",
       "      <th>4</th>\n",
       "      <td>31957304</td>\n",
       "      <td>2012-09-06 00:00:00+00:00</td>\n",
       "      <td>2</td>\n",
       "      <td>00499011</td>\n",
       "      <td>Mud River</td>\n",
       "      <td>1.806182</td>\n",
       "      <td>05110003001458</td>\n",
       "      <td>1</td>\n",
       "      <td>120007605</td>\n",
       "      <td>558</td>\n",
       "      <td>...</td>\n",
       "      <td>12580.0</td>\n",
       "      <td>12731.0</td>\n",
       "      <td>12731.0</td>\n",
       "      <td>0.000010</td>\n",
       "      <td>1.806182</td>\n",
       "      <td>0</td>\n",
       "      <td>NaN</td>\n",
       "      <td>NaN</td>\n",
       "      <td>A</td>\n",
       "      <td>0511</td>\n",
       "    </tr>\n",
       "    <tr>\n",
       "      <th>...</th>\n",
       "      <td>...</td>\n",
       "      <td>...</td>\n",
       "      <td>...</td>\n",
       "      <td>...</td>\n",
       "      <td>...</td>\n",
       "      <td>...</td>\n",
       "      <td>...</td>\n",
       "      <td>...</td>\n",
       "      <td>...</td>\n",
       "      <td>...</td>\n",
       "      <td>...</td>\n",
       "      <td>...</td>\n",
       "      <td>...</td>\n",
       "      <td>...</td>\n",
       "      <td>...</td>\n",
       "      <td>...</td>\n",
       "      <td>...</td>\n",
       "      <td>...</td>\n",
       "      <td>...</td>\n",
       "      <td>...</td>\n",
       "      <td>...</td>\n",
       "    </tr>\n",
       "    <tr>\n",
       "      <th>49469</th>\n",
       "      <td>{8E13A622-40D2-4CCD-841D-59196904AFA0}</td>\n",
       "      <td>2012-08-29 00:00:00+00:00</td>\n",
       "      <td>2</td>\n",
       "      <td>None</td>\n",
       "      <td>None</td>\n",
       "      <td>1.004036</td>\n",
       "      <td>05110002018710</td>\n",
       "      <td>1</td>\n",
       "      <td>None</td>\n",
       "      <td>420</td>\n",
       "      <td>...</td>\n",
       "      <td>20093.0</td>\n",
       "      <td>20968.0</td>\n",
       "      <td>20968.0</td>\n",
       "      <td>0.000010</td>\n",
       "      <td>0.904036</td>\n",
       "      <td>1</td>\n",
       "      <td>0.0</td>\n",
       "      <td>0.0032</td>\n",
       "      <td>A</td>\n",
       "      <td>0511</td>\n",
       "    </tr>\n",
       "    <tr>\n",
       "      <th>49470</th>\n",
       "      <td>{44144425-099D-49E6-B062-08DF6384DF97}</td>\n",
       "      <td>2012-08-29 00:00:00+00:00</td>\n",
       "      <td>2</td>\n",
       "      <td>None</td>\n",
       "      <td>None</td>\n",
       "      <td>2.009940</td>\n",
       "      <td>05110002018711</td>\n",
       "      <td>1</td>\n",
       "      <td>None</td>\n",
       "      <td>420</td>\n",
       "      <td>...</td>\n",
       "      <td>20270.0</td>\n",
       "      <td>21882.0</td>\n",
       "      <td>20968.0</td>\n",
       "      <td>0.004785</td>\n",
       "      <td>1.909940</td>\n",
       "      <td>0</td>\n",
       "      <td>0.0</td>\n",
       "      <td>0.2841</td>\n",
       "      <td>A</td>\n",
       "      <td>0511</td>\n",
       "    </tr>\n",
       "    <tr>\n",
       "      <th>49471</th>\n",
       "      <td>{F56B549C-35ED-46B9-9E7E-620B6DEF2DD0}</td>\n",
       "      <td>2012-08-29 00:00:00+00:00</td>\n",
       "      <td>2</td>\n",
       "      <td>None</td>\n",
       "      <td>None</td>\n",
       "      <td>0.246632</td>\n",
       "      <td>05110002018980</td>\n",
       "      <td>1</td>\n",
       "      <td>None</td>\n",
       "      <td>420</td>\n",
       "      <td>...</td>\n",
       "      <td>22770.0</td>\n",
       "      <td>23035.0</td>\n",
       "      <td>22770.0</td>\n",
       "      <td>0.018072</td>\n",
       "      <td>0.146632</td>\n",
       "      <td>0</td>\n",
       "      <td>0.0</td>\n",
       "      <td>0.0135</td>\n",
       "      <td>A</td>\n",
       "      <td>0511</td>\n",
       "    </tr>\n",
       "    <tr>\n",
       "      <th>49472</th>\n",
       "      <td>{DA116B40-7208-45CA-9ECC-099F379A4F73}</td>\n",
       "      <td>2012-08-29 00:00:00+00:00</td>\n",
       "      <td>2</td>\n",
       "      <td>None</td>\n",
       "      <td>None</td>\n",
       "      <td>0.453731</td>\n",
       "      <td>05110002018993</td>\n",
       "      <td>1</td>\n",
       "      <td>None</td>\n",
       "      <td>420</td>\n",
       "      <td>...</td>\n",
       "      <td>16365.0</td>\n",
       "      <td>16367.0</td>\n",
       "      <td>16367.0</td>\n",
       "      <td>0.000010</td>\n",
       "      <td>0.453731</td>\n",
       "      <td>0</td>\n",
       "      <td>NaN</td>\n",
       "      <td>NaN</td>\n",
       "      <td>A</td>\n",
       "      <td>0511</td>\n",
       "    </tr>\n",
       "    <tr>\n",
       "      <th>49473</th>\n",
       "      <td>{1334A7C5-AF40-465F-8D9A-14CC6DDA69BB}</td>\n",
       "      <td>2012-08-29 00:00:00+00:00</td>\n",
       "      <td>2</td>\n",
       "      <td>None</td>\n",
       "      <td>None</td>\n",
       "      <td>0.013619</td>\n",
       "      <td>05110002018994</td>\n",
       "      <td>1</td>\n",
       "      <td>None</td>\n",
       "      <td>460</td>\n",
       "      <td>...</td>\n",
       "      <td>13285.0</td>\n",
       "      <td>13313.0</td>\n",
       "      <td>13313.0</td>\n",
       "      <td>0.000010</td>\n",
       "      <td>0.013619</td>\n",
       "      <td>1</td>\n",
       "      <td>NaN</td>\n",
       "      <td>NaN</td>\n",
       "      <td>A</td>\n",
       "      <td>0511</td>\n",
       "    </tr>\n",
       "  </tbody>\n",
       "</table>\n",
       "<p>49474 rows × 60 columns</p>\n",
       "</div>"
      ],
      "text/plain": [
       "                         Permanent_Identifier                     FDate  \\\n",
       "0                                    31954731 2016-05-25 00:00:00+00:00   \n",
       "1                                    31954765 2012-03-28 06:48:00+00:00   \n",
       "2                                    31956873 2016-05-25 00:00:00+00:00   \n",
       "3                                    31956956 2016-05-25 00:00:00+00:00   \n",
       "4                                    31957304 2012-09-06 00:00:00+00:00   \n",
       "...                                       ...                       ...   \n",
       "49469  {8E13A622-40D2-4CCD-841D-59196904AFA0} 2012-08-29 00:00:00+00:00   \n",
       "49470  {44144425-099D-49E6-B062-08DF6384DF97} 2012-08-29 00:00:00+00:00   \n",
       "49471  {F56B549C-35ED-46B9-9E7E-620B6DEF2DD0} 2012-08-29 00:00:00+00:00   \n",
       "49472  {DA116B40-7208-45CA-9ECC-099F379A4F73} 2012-08-29 00:00:00+00:00   \n",
       "49473  {1334A7C5-AF40-465F-8D9A-14CC6DDA69BB} 2012-08-29 00:00:00+00:00   \n",
       "\n",
       "       Resolution   GNIS_ID        GNIS_Name  LengthKM       ReachCode  \\\n",
       "0               2      None             None  0.042435  05110003000792   \n",
       "1               2      None             None  0.157000  05110003002341   \n",
       "2               2      None             None  0.121340  05110003008664   \n",
       "3               2  00507017  Wolf Lick Creek  0.503370  05110003000051   \n",
       "4               2  00499011        Mud River  1.806182  05110003001458   \n",
       "...           ...       ...              ...       ...             ...   \n",
       "49469           2      None             None  1.004036  05110002018710   \n",
       "49470           2      None             None  2.009940  05110002018711   \n",
       "49471           2      None             None  0.246632  05110002018980   \n",
       "49472           2      None             None  0.453731  05110002018993   \n",
       "49473           2      None             None  0.013619  05110002018994   \n",
       "\n",
       "       FlowDir WBArea_Permanent_Identifier  FType  ...  MinElevRaw  \\\n",
       "0            1                   120007605    558  ...     11818.0   \n",
       "1            1                    31960569    558  ...     11995.0   \n",
       "2            1                    31962626    558  ...     13695.0   \n",
       "3            1                   120007605    558  ...     12124.0   \n",
       "4            1                   120007605    558  ...     12580.0   \n",
       "...        ...                         ...    ...  ...         ...   \n",
       "49469        1                        None    420  ...     20093.0   \n",
       "49470        1                        None    420  ...     20270.0   \n",
       "49471        1                        None    420  ...     22770.0   \n",
       "49472        1                        None    420  ...     16365.0   \n",
       "49473        1                        None    460  ...     13285.0   \n",
       "\n",
       "       MaxElevSmo  MinElevSmo     Slope  SlopeLenKm  ElevFixed HWType  \\\n",
       "0         11818.0     11818.0  0.000010    0.042435          1    NaN   \n",
       "1         11995.0     11995.0  0.000010    0.057000          0    0.0   \n",
       "2         13695.0     13695.0  0.000010    0.121340          1    NaN   \n",
       "3         12170.0     12170.0  0.000010    0.503370          0    NaN   \n",
       "4         12731.0     12731.0  0.000010    1.806182          0    NaN   \n",
       "...           ...         ...       ...         ...        ...    ...   \n",
       "49469     20968.0     20968.0  0.000010    0.904036          1    0.0   \n",
       "49470     21882.0     20968.0  0.004785    1.909940          0    0.0   \n",
       "49471     23035.0     22770.0  0.018072    0.146632          0    0.0   \n",
       "49472     16367.0     16367.0  0.000010    0.453731          0    NaN   \n",
       "49473     13313.0     13313.0  0.000010    0.013619          1    NaN   \n",
       "\n",
       "       HWNodeSqKm StatusFlag  VPUID_vaa  \n",
       "0             NaN          A       0511  \n",
       "1          0.2514          A       0511  \n",
       "2             NaN          A       0511  \n",
       "3             NaN          A       0511  \n",
       "4             NaN          A       0511  \n",
       "...           ...        ...        ...  \n",
       "49469      0.0032          A       0511  \n",
       "49470      0.2841          A       0511  \n",
       "49471      0.0135          A       0511  \n",
       "49472         NaN          A       0511  \n",
       "49473         NaN          A       0511  \n",
       "\n",
       "[49474 rows x 60 columns]"
      ]
     },
     "execution_count": 56,
     "metadata": {},
     "output_type": "execute_result"
    }
   ],
   "source": [
    "def get_nhd_data(in_hucs_pd, out_dir):\n",
    "    print('Getting NHD data for all HU4')\n",
    "    \n",
    "    #Download data by HU4 if needed\n",
    "    huc4_list = in_hucs_pd.huc4.unique()\n",
    "    nhd_huc4_pathdict = {}\n",
    "    for huc in huc4_list:\n",
    "        download_nhdplus_hr_hu4(\n",
    "            hu4=huc, \n",
    "            out_dir=out_dir, \n",
    "            verbose=False\n",
    "        )\n",
    "        nhd_huc4_pathdict[huc] = os.path.join(\n",
    "            out_dir,\n",
    "            f'NHDPLUS_H_{huc}_HU4_GDB.gdb')\n",
    "\n",
    "    nhdplus_huc4_dict = {}\n",
    "    for huc4 in nhd_huc4_pathdict:\n",
    "        print(huc4)\n",
    "        #Read flowlines\n",
    "        flowlines_gpd = gpd.read_file(\n",
    "            filename=nhd_huc4_pathdict[huc4], \n",
    "            layer='NHDFlowline',\n",
    "            ignore_geometry=False\n",
    "        )\n",
    "        vaa_pd = gpd.read_file(\n",
    "            filename=nhd_huc4_pathdict[huc4], \n",
    "            layer='NHDPlusFlowlineVAA',\n",
    "            ignore_geometry=False\n",
    "        )\n",
    "\n",
    "        flowlines_vaa = flowlines_gpd.merge(\n",
    "            vaa_pd, how='inner', on='NHDPlusID', suffixes=('', '_vaa'))\n",
    "\n",
    "        nhdplus_huc4_dict[huc4] = flowlines_vaa\n",
    "    \n",
    "    return(nhdplus_huc4_dict)\n",
    "\n",
    "test_nhdplus_gpd_dict = get_nhd_data(\n",
    "    in_hucs_pd=test_huc_pd[test_huc_pd['huc4'].isin(['0511', '1030'])], \n",
    "    out_dir=os.path.join(nhd_dir, 'nhdplus_hr')\n",
    ")"
   ]
  },
  {
   "cell_type": "code",
   "execution_count": null,
   "id": "e6f1fdcd-b9ba-4942-9af3-904dbfeed05a",
   "metadata": {},
   "outputs": [],
   "source": [
    "def get_geoglows_hydronyms():\n",
    "    print('Getting geoglows river names')\n",
    "\n"
   ]
  },
  {
   "cell_type": "code",
   "execution_count": null,
   "id": "03e034ba-e56e-413a-8cab-eeb9c3a89e21",
   "metadata": {},
   "outputs": [],
   "source": [
    "\n",
    "        \n",
    "def get_hydroatlas_data():\n",
    "    print('Getting HydroATLAS data')"
   ]
  },
  {
   "cell_type": "code",
   "execution_count": null,
   "id": "6f9a995b-fef7-4aaf-8984-203a0d31a94b",
   "metadata": {},
   "outputs": [],
   "source": [
    "def load_spatial_data(point_locations_path, nhd_path, hydrobasins_path, admin_units_path):\n",
    "    # Convert your points to GeoDataFrame\n",
    "\n",
    "    \n",
    "    # Load boundary files\n",
    "    nhd_gdf = gpd.read_file(nhd_path)\n",
    "    hydrobasins_gdf = gpd.read_file(hydrobasins_path)\n",
    "    admin_gdf = gpd.read_file(admin_units_path)\n",
    "    \n",
    "    return points_gdf, nhd_gdf, hydrobasins_gdf, admin_gdf"
   ]
  },
  {
   "cell_type": "code",
   "execution_count": null,
   "id": "2f511f18-ad44-486c-8248-8e90ff4146e7",
   "metadata": {},
   "outputs": [],
   "source": [
    "# 2. Perform spatial joins to get catchment information\n",
    "def get_catchment_info(point_gdf, nhd_gdf, hydrobasins_gdf, admin_gdf):\n",
    "    # Spatial joins\n",
    "    points_nhd = gpd.sjoin(point_gdf, nhd_gdf, how='left', op='within')\n",
    "    points_hydrobasins = gpd.sjoin(point_gdf, hydrobasins_gdf, how='left', op='within')\n",
    "    points_admin = gpd.sjoin(point_gdf, admin_gdf, how='left', op='within')\n",
    "    \n",
    "    # Collect all relevant names\n",
    "    location_names = set()\n",
    "    \n",
    "    # Add names from each source (adjust column names as needed)\n",
    "    name_columns = {\n",
    "        'nhd': ['BASIN_NAME', 'RIVER_NAME'],\n",
    "        'hydrobasins': ['HYBAS_NAME'],\n",
    "        'admin': ['COUNTY_NAME', 'STATE_NAME', 'COUNTRY_NAME']\n",
    "    }\n",
    "    \n",
    "    for df, cols in zip([points_nhd, points_hydrobasins, points_admin], \n",
    "                       name_columns.values()):\n",
    "        for col in cols:\n",
    "            if col in df.columns:\n",
    "                location_names.update(df[col].dropna().unique())\n",
    "    \n",
    "    return location_names"
   ]
  },
  {
   "cell_type": "code",
   "execution_count": null,
   "id": "0a67f9c7-0ab0-450b-b060-0d50462acbf3",
   "metadata": {},
   "outputs": [],
   "source": [
    "# 3. Process OpenAlex records\n",
    "def process_openalex_records(openalex_df, location_names):\n",
    "    # Function to generate n-grams\n",
    "    def get_ngrams(text, n_range=(1, 3)):\n",
    "        if pd.isna(text):\n",
    "            return set()\n",
    "        \n",
    "        text = str(text).lower()\n",
    "        tokens = nltk.word_tokenize(text)\n",
    "        all_ngrams = set()\n",
    "        \n",
    "        for n in range(n_range[0], n_range[1] + 1):\n",
    "            text_ngrams = set(' '.join(gram) for gram in ngrams(tokens, n))\n",
    "            all_ngrams.update(text_ngrams)\n",
    "            \n",
    "        return all_ngrams\n",
    "\n",
    "    # Convert location names to lowercase for matching\n",
    "    location_names = set(name.lower() for name in location_names)\n",
    "    \n",
    "    # Process each record\n",
    "    matched_records = []\n",
    "    \n",
    "    for _, record in openalex_df.iterrows():\n",
    "        # Combine all text fields\n",
    "        text_fields = [\n",
    "            str(record.get('title', '')),\n",
    "            str(record.get('abstract', '')),\n",
    "            str(record.get('keywords', ''))\n",
    "        ]\n",
    "        \n",
    "        combined_text = ' '.join(text_fields).lower()\n",
    "        \n",
    "        # Generate n-grams from the combined text\n",
    "        record_ngrams = get_ngrams(' '.join(text_fields))\n",
    "        \n",
    "        # Check for matches\n",
    "        if any(location in combined_text for location in location_names) or \\\n",
    "           any(location in record_ngrams for location in location_names):\n",
    "            matched_records.append(record)\n",
    "    \n",
    "    return pd.DataFrame(matched_records)"
   ]
  },
  {
   "cell_type": "code",
   "execution_count": null,
   "id": "3f41e85c-cc5c-46e8-8a3e-28a3034fd48e",
   "metadata": {},
   "outputs": [],
   "source": [
    "# Main execution\n",
    "def main():\n",
    "    # Load your data (replace with actual file paths)\n",
    "    points_gdf, nhd_gdf, hydrobasins_gdf, admin_gdf = load_spatial_data(\n",
    "        'points.csv',\n",
    "        'nhd.shp',\n",
    "        'hydrobasins.shp',\n",
    "        'admin_units.shp'\n",
    "    )\n",
    "    \n",
    "    # Get catchment information\n",
    "    location_names = get_catchment_info(points_gdf, nhd_gdf, hydrobasins_gdf, admin_gdf)\n",
    "    \n",
    "    # Load and process OpenAlex records\n",
    "    openalex_df = pd.read_csv('openalex_records.csv')  # Replace with actual file path\n",
    "    \n",
    "    # Filter records based on location names\n",
    "    matched_records = process_openalex_records(openalex_df, location_names)\n",
    "    \n",
    "    # Save results\n",
    "    matched_records.to_csv('matched_records.csv', index=False)\n",
    "    "
   ]
  }
 ],
 "metadata": {
  "kernelspec": {
   "display_name": "Python [conda env:base] *",
   "language": "python",
   "name": "conda-base-py"
  },
  "language_info": {
   "codemirror_mode": {
    "name": "ipython",
    "version": 3
   },
   "file_extension": ".py",
   "mimetype": "text/x-python",
   "name": "python",
   "nbconvert_exporter": "python",
   "pygments_lexer": "ipython3",
   "version": "3.12.7"
  }
 },
 "nbformat": 4,
 "nbformat_minor": 5
}
