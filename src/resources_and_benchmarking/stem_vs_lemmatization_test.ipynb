{
 "cells": [
  {
   "cell_type": "code",
   "execution_count": 1,
   "id": "9314dfea-b169-4c66-9f2a-e5089ac967c6",
   "metadata": {},
   "outputs": [
    {
     "name": "stderr",
     "output_type": "stream",
     "text": [
      "[nltk_data] Downloading package wordnet to\n",
      "[nltk_data]     C:\\Users\\messa\\AppData\\Roaming\\nltk_data...\n",
      "[nltk_data]   Package wordnet is already up-to-date!\n",
      "[nltk_data] Downloading package omw-1.4 to\n",
      "[nltk_data]     C:\\Users\\messa\\AppData\\Roaming\\nltk_data...\n",
      "[nltk_data]   Package omw-1.4 is already up-to-date!\n"
     ]
    },
    {
     "data": {
      "text/plain": [
       "True"
      ]
     },
     "execution_count": 1,
     "metadata": {},
     "output_type": "execute_result"
    }
   ],
   "source": [
    "import nltk\n",
    "from nltk.stem import PorterStemmer, SnowballStemmer, LancasterStemmer, WordNetLemmatizer\n",
    "import spacy\n",
    "\n",
    "# Download necessary resources (only needed once)\n",
    "nltk.download('wordnet')\n",
    "nltk.download('omw-1.4') # Open Multilingual Wordnet (for WordNetLemmatizer)"
   ]
  },
  {
   "cell_type": "code",
   "execution_count": 3,
   "id": "28a54efb-4dbc-4fe1-b0bf-7acad80a973b",
   "metadata": {},
   "outputs": [],
   "source": [
    "# Load spaCy model (you may need to download it first)\n",
    "try:\n",
    "    nlp = spacy.load(\"en_core_web_sm\")\n",
    "except OSError:\n",
    "    print(\"Downloading en_core_web_sm model...\")\n",
    "    spacy.cli.download(\"en_core_web_sm\")\n",
    "    nlp = spacy.load(\"en_core_web_sm\")"
   ]
  },
  {
   "cell_type": "code",
   "execution_count": 4,
   "id": "75b65439-e309-4a8c-bca0-88eab8127987",
   "metadata": {},
   "outputs": [
    {
     "name": "stdout",
     "output_type": "stream",
     "text": [
      "Stemming Results:\n",
      "Word            Porter          Snowball        Lancaster      \n",
      "running         run             run             run            \n",
      "easily          easili          easili          easy           \n",
      "flies           fli             fli             fli            \n",
      "better          better          better          bet            \n",
      "dogs            dog             dog             dog            \n",
      "universities    univers         univers         univers        \n",
      "releasing       releas          releas          releas         \n",
      "released        releas          releas          releas         \n"
     ]
    }
   ],
   "source": [
    "words = [\"running\", \"easily\", \"flies\", \"better\", \"dogs\", \"universities\", \"releasing\", \"released\"]\n",
    "\n",
    "# --- NLTK Stemmers ---\n",
    "porter = PorterStemmer()\n",
    "snowball = SnowballStemmer(\"english\")\n",
    "lancaster = LancasterStemmer()\n",
    "\n",
    "print(\"Stemming Results:\")\n",
    "print(f\"{'Word':<15} {'Porter':<15} {'Snowball':<15} {'Lancaster':<15}\")\n",
    "for word in words:\n",
    "    print(f\"{word:<15} {porter.stem(word):<15} {snowball.stem(word):<15} {lancaster.stem(word):<15}\")"
   ]
  },
  {
   "cell_type": "code",
   "execution_count": 5,
   "id": "18bcbef4-23f3-43ec-8b76-f68b4a2575c8",
   "metadata": {},
   "outputs": [
    {
     "name": "stdout",
     "output_type": "stream",
     "text": [
      "\n",
      "NLTK Lemmatization Results (default POS - noun):\n",
      "Word            Lemma          \n",
      "running         running        \n",
      "easily          easily         \n",
      "flies           fly            \n",
      "better          better         \n",
      "dogs            dog            \n",
      "universities    university     \n",
      "releasing       releasing      \n",
      "released        released       \n",
      "\n",
      "NLTK Lemmatization Results (with POS tags):\n",
      "Word            Lemma (Verb)    Lemma (Adjective)\n",
      "running         run             running        \n",
      "easily          easily          easily         \n",
      "flies           fly             flies          \n",
      "better          better          good           \n",
      "dogs            dog             dogs           \n",
      "universities    universities    universities   \n",
      "releasing       release         releasing      \n",
      "released        release         released       \n"
     ]
    }
   ],
   "source": [
    "# --- NLTK Lemmatizer ---\n",
    "lemmatizer = WordNetLemmatizer()\n",
    "\n",
    "print(\"\\nNLTK Lemmatization Results (default POS - noun):\")\n",
    "print(f\"{'Word':<15} {'Lemma':<15}\")\n",
    "for word in words:\n",
    "    print(f\"{word:<15} {lemmatizer.lemmatize(word):<15}\")\n",
    "\n",
    "print(\"\\nNLTK Lemmatization Results (with POS tags):\")\n",
    "print(f\"{'Word':<15} {'Lemma (Verb)':<15} {'Lemma (Adjective)':<15}\")\n",
    "for word in words:\n",
    "    print(f\"{word:<15} {lemmatizer.lemmatize(word, pos='v'):<15} {lemmatizer.lemmatize(word, pos='a'):<15}\")"
   ]
  },
  {
   "cell_type": "code",
   "execution_count": 6,
   "id": "b1e9cb27-7f41-42e8-95f3-6cf908effb15",
   "metadata": {},
   "outputs": [
    {
     "name": "stdout",
     "output_type": "stream",
     "text": [
      "\n",
      "spaCy Lemmatization Results:\n",
      "Word            Lemma          \n",
      "running         run            \n",
      "easily          easily         \n",
      "flies           fly            \n",
      "better          well           \n",
      "dogs            dog            \n",
      "universities    university     \n",
      "releasing       release        \n",
      "released        release        \n"
     ]
    }
   ],
   "source": [
    "# --- spaCy Lemmatization ---\n",
    "print(\"\\nspaCy Lemmatization Results:\")\n",
    "print(f\"{'Word':<15} {'Lemma':<15}\")\n",
    "doc = nlp(\" \".join(words))  # Process the words as a single document\n",
    "for token in doc:\n",
    "    print(f\"{token.text:<15} {token.lemma_:<15}\")"
   ]
  },
  {
   "cell_type": "code",
   "execution_count": null,
   "id": "a6bfdb5b-0871-40d8-abcc-4806d9647c7a",
   "metadata": {},
   "outputs": [],
   "source": []
  }
 ],
 "metadata": {
  "kernelspec": {
   "display_name": "Python 3 (ipykernel)",
   "language": "python",
   "name": "python3"
  },
  "language_info": {
   "codemirror_mode": {
    "name": "ipython",
    "version": 3
   },
   "file_extension": ".py",
   "mimetype": "text/x-python",
   "name": "python",
   "nbconvert_exporter": "python",
   "pygments_lexer": "ipython3",
   "version": "3.12.3"
  }
 },
 "nbformat": 4,
 "nbformat_minor": 5
}
